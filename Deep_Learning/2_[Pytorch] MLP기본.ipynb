{
 "cells": [
  {
   "cell_type": "code",
   "execution_count": null,
   "metadata": {},
   "outputs": [],
   "source": [
    "import os\n",
    "import torch\n",
    "from torch import nn\n",
    "from torch.utils.data import DataLoader\n",
    "from torchvision import datasets, transforms"
   ]
  },
  {
   "cell_type": "code",
   "execution_count": null,
   "metadata": {},
   "outputs": [],
   "source": [
    "## 딥러닝 모델"
   ]
  },
  {
   "cell_type": "code",
   "execution_count": null,
   "metadata": {},
   "outputs": [],
   "source": [
    "class NeuralNet(nn.Module):\n",
    "    def __init__(self, input_size, hidden_size, num_classes):\n",
    "        super(NeuralNet, self).__init__()\n",
    "        self.mlp1 = nn.Linear(input_size, hidden_size) \n",
    "        self.relu = nn.ReLU()\n",
    "        self.mlp2 = nn.Linear(hidden_size, num_classes)  \n",
    "        self.softmax = nn.Softmax(dim=1)\n",
    "    def forward(self, x):\n",
    "        out = self.mlp1(x)\n",
    "        out = self.relu(out)\n",
    "        out = self.mlp2(out)\n",
    "        out = self.softmax(out)\n",
    "        return out"
   ]
  },
  {
   "cell_type": "code",
   "execution_count": 57,
   "metadata": {},
   "outputs": [
    {
     "name": "stdout",
     "output_type": "stream",
     "text": [
      "cpu\n"
     ]
    }
   ],
   "source": [
    "device = torch.device('cuda' if torch.cuda.is_available() else 'cpu')\n",
    "print(device)"
   ]
  },
  {
   "cell_type": "code",
   "execution_count": 58,
   "metadata": {},
   "outputs": [
    {
     "name": "stdout",
     "output_type": "stream",
     "text": [
      "NeuralNet(\n",
      "  (mlp1): Linear(in_features=784, out_features=100, bias=True)\n",
      "  (relu): ReLU()\n",
      "  (mlp2): Linear(in_features=100, out_features=10, bias=True)\n",
      "  (softmax): Softmax(dim=1)\n",
      ")\n"
     ]
    }
   ],
   "source": [
    "input_size = 28*28*1 # MNIST 이미지 크기\n",
    "hidden_size = 100 # hyper parameter\n",
    "num_classes = 10 # 총 class 수\n",
    "\n",
    "model = NeuralNet(input_size, hidden_size, num_classes).to(device)\n",
    "print(model)"
   ]
  },
  {
   "cell_type": "code",
   "execution_count": 59,
   "metadata": {},
   "outputs": [
    {
     "name": "stdout",
     "output_type": "stream",
     "text": [
      "data: torch.Size([1, 784])\n",
      "----------------------------------------\n",
      "pred: tensor([[0.0907, 0.0983, 0.1043, 0.0927, 0.0947, 0.1213, 0.0872, 0.1213, 0.0953,\n",
      "         0.0943]], grad_fn=<SoftmaxBackward>)\n",
      "----------------------------------------\n",
      "y hat: tensor([7])\n"
     ]
    }
   ],
   "source": [
    "data = torch.rand(1, 28*28).to(device)\n",
    "print('data:',data.shape)\n",
    "print('-'*40)\n",
    "\n",
    "pred = model(data)\n",
    "print('pred:',pred)\n",
    "print('-'*40)\n",
    "\n",
    "y_hat = pred.argmax(1)\n",
    "print('y hat:',y_hat)"
   ]
  },
  {
   "cell_type": "markdown",
   "metadata": {},
   "source": [
    "### nn.Linear"
   ]
  },
  {
   "cell_type": "code",
   "execution_count": 32,
   "metadata": {},
   "outputs": [],
   "source": [
    "x = torch.randn(3,28,28)"
   ]
  },
  {
   "cell_type": "code",
   "execution_count": 33,
   "metadata": {},
   "outputs": [
    {
     "name": "stdout",
     "output_type": "stream",
     "text": [
      "x_after_fc: torch.Size([3, 100])\n"
     ]
    }
   ],
   "source": [
    "fc_layer = nn.Linear(in_features=28*28, out_features=100)\n",
    "x_after_fc = fc_layer(x.reshape(-1,28*28))\n",
    "print('x_after_fc:',x_after_fc.shape)"
   ]
  },
  {
   "cell_type": "code",
   "execution_count": 34,
   "metadata": {},
   "outputs": [
    {
     "name": "stdout",
     "output_type": "stream",
     "text": [
      "torch.Size([3, 784])\n",
      "x_after_fc: torch.Size([3, 100])\n"
     ]
    }
   ],
   "source": [
    "# nn.Flatten : x.reshape(-1,28*28)과 같은 역할\n",
    "# 28x28 사이즈의 이미지를 784 픽셀 값을 갖는 배열로 변환\n",
    "\n",
    "flatten = nn.Flatten()\n",
    "flat_x = flatten(x)\n",
    "print(flat_x.shape)\n",
    "\n",
    "fc_layer = nn.Linear(in_features=28*28, out_features=100)\n",
    "x_after_fc = fc_layer(flat_x)\n",
    "print('x_after_fc:',x_after_fc.shape)"
   ]
  },
  {
   "cell_type": "markdown",
   "metadata": {},
   "source": [
    "### nn.ReLU"
   ]
  },
  {
   "cell_type": "code",
   "execution_count": 50,
   "metadata": {},
   "outputs": [],
   "source": [
    "x = torch.randn(3,28,28)"
   ]
  },
  {
   "cell_type": "code",
   "execution_count": 51,
   "metadata": {},
   "outputs": [
    {
     "name": "stdout",
     "output_type": "stream",
     "text": [
      "before_relu : tensor([ 0.5536,  0.4747,  1.2781, -0.4571,  0.0583,  0.8468, -1.0450,  0.6684,\n",
      "        -0.6441, -0.1627, -1.3431,  1.4553, -1.4468,  0.9500, -0.4645, -0.2197,\n",
      "        -1.5136, -0.8886, -0.5665,  0.5779,  1.1521,  0.9096, -0.4523, -0.8025,\n",
      "         1.5793, -1.0699, -0.0302,  0.9655]) torch.Size([28])\n",
      "----------------------------------------------------------------------\n",
      "after_relu : tensor([0.5536, 0.4747, 1.2781, 0.0000, 0.0583, 0.8468, 0.0000, 0.6684, 0.0000,\n",
      "        0.0000, 0.0000, 1.4553, 0.0000, 0.9500, 0.0000, 0.0000, 0.0000, 0.0000,\n",
      "        0.0000, 0.5779, 1.1521, 0.9096, 0.0000, 0.0000, 1.5793, 0.0000, 0.0000,\n",
      "        0.9655]) torch.Size([28])\n"
     ]
    }
   ],
   "source": [
    "before_relu = x[0][0]\n",
    "print('before_relu :', before_relu, before_relu.shape)\n",
    "print('-'*70)\n",
    "\n",
    "relu = nn.ReLU()\n",
    "after_relu = relu(before_relu)\n",
    "print('after_relu :', after_relu, after_relu.shape)"
   ]
  },
  {
   "cell_type": "markdown",
   "metadata": {},
   "source": [
    "### Softmax"
   ]
  },
  {
   "cell_type": "code",
   "execution_count": 62,
   "metadata": {},
   "outputs": [
    {
     "data": {
      "text/plain": [
       "tensor([[ 0.1237, -0.7806, -1.1575, -1.2096, -0.0131,  0.2782,  0.8502,  1.2090,\n",
       "         -0.0721, -1.8007]])"
      ]
     },
     "execution_count": 62,
     "metadata": {},
     "output_type": "execute_result"
    }
   ],
   "source": [
    "x = torch.randn(1,10)\n",
    "x"
   ]
  },
  {
   "cell_type": "code",
   "execution_count": 63,
   "metadata": {},
   "outputs": [],
   "source": [
    "softmax = nn.Softmax(dim=1)"
   ]
  },
  {
   "cell_type": "code",
   "execution_count": 66,
   "metadata": {},
   "outputs": [
    {
     "name": "stdout",
     "output_type": "stream",
     "text": [
      "pred: tensor([[0.1002, 0.0406, 0.0278, 0.0264, 0.0874, 0.1169, 0.2072, 0.2966, 0.0824,\n",
      "         0.0146]])\n",
      "sum of pred: tensor(1.)\n"
     ]
    }
   ],
   "source": [
    "pred = softmax(x)\n",
    "print('pred:', pred)\n",
    "print('sum of pred:',pred.sum())"
   ]
  },
  {
   "cell_type": "markdown",
   "metadata": {},
   "source": [
    "### nn.Sequential"
   ]
  },
  {
   "cell_type": "code",
   "execution_count": 46,
   "metadata": {},
   "outputs": [],
   "source": [
    "class NeuralNet(nn.Module):\n",
    "    def __init__(self, input_size, hidden_size, num_classes):\n",
    "        super(NeuralNet, self).__init__()\n",
    "        self.mlp1 = nn.Linear(input_size, hidden_size) \n",
    "        self.relu = nn.ReLU()\n",
    "        self.mlp2 = nn.Linear(hidden_size, num_classes)  \n",
    "        self.softmax = nn.Softmax(dim=1)\n",
    "    def forward(self, x):\n",
    "        out = self.mlp1(x)\n",
    "        out = self.relu(out)\n",
    "        out = self.mlp2(out)\n",
    "        out = self.softmax(out)\n",
    "        return out"
   ]
  },
  {
   "cell_type": "code",
   "execution_count": 47,
   "metadata": {},
   "outputs": [
    {
     "name": "stdout",
     "output_type": "stream",
     "text": [
      "NeuralNet(\n",
      "  (mlp1): Linear(in_features=784, out_features=100, bias=True)\n",
      "  (relu): ReLU()\n",
      "  (mlp2): Linear(in_features=100, out_features=10, bias=True)\n",
      "  (softmax): Softmax(dim=1)\n",
      ")\n"
     ]
    }
   ],
   "source": [
    "input_size = 28*28*1 # MNIST 이미지 크기\n",
    "hidden_size = 100 # hyper parameter\n",
    "num_classes = 10 # 총 class 수\n",
    "\n",
    "model = NeuralNet(input_size, hidden_size, num_classes).to(device)\n",
    "print(model)"
   ]
  },
  {
   "cell_type": "code",
   "execution_count": 48,
   "metadata": {},
   "outputs": [],
   "source": [
    "# nn.Sequential : 여러 모듈들을 묶어서 사용 가능\n",
    "\n",
    "class NeuralNet2(nn.Module):\n",
    "    def __init__(self, input_size, hidden_size, num_classes):\n",
    "        super(NeuralNet, self).__init__()\n",
    "        sequential = nn.Sequential(\n",
    "            nn.Linear(input_size, hidden_size),\n",
    "            nn.ReLU(),\n",
    "            nn.Linear(hidden_size, num_classes),\n",
    "            nn.Softmax(dim=1),\n",
    "        )\n",
    "    def forward(self, x):\n",
    "        out = self.sequential(x)\n",
    "        return out"
   ]
  },
  {
   "cell_type": "code",
   "execution_count": 49,
   "metadata": {},
   "outputs": [
    {
     "name": "stdout",
     "output_type": "stream",
     "text": [
      "NeuralNet(\n",
      "  (mlp1): Linear(in_features=784, out_features=100, bias=True)\n",
      "  (relu): ReLU()\n",
      "  (mlp2): Linear(in_features=100, out_features=10, bias=True)\n",
      "  (softmax): Softmax(dim=1)\n",
      ")\n"
     ]
    }
   ],
   "source": [
    "input_size = 28*28*1 # MNIST 이미지 크기\n",
    "hidden_size = 100 # hyper parameter\n",
    "num_classes = 10 # 총 class 수\n",
    "\n",
    "model = NeuralNet(input_size, hidden_size, num_classes).to(device)\n",
    "print(model)"
   ]
  },
  {
   "cell_type": "markdown",
   "metadata": {},
   "source": [
    "## 손실 함수"
   ]
  },
  {
   "cell_type": "markdown",
   "metadata": {},
   "source": [
    "### Cross Entropy"
   ]
  },
  {
   "cell_type": "markdown",
   "metadata": {},
   "source": [
    "Binary Cross Entropy Loss (nn.BCELoss())\n",
    "- Binary Class (0/1)에 적용\n",
    "- Loss 적용 전 sigmoid나 softmax를 취해줘야 함"
   ]
  },
  {
   "cell_type": "code",
   "execution_count": 104,
   "metadata": {},
   "outputs": [],
   "source": [
    "x = torch.randn(3)\n",
    "y = torch.tensor([0.,1.,0.]) # binary 이므로 target(y) 값은 0 또는 1"
   ]
  },
  {
   "cell_type": "code",
   "execution_count": 105,
   "metadata": {},
   "outputs": [
    {
     "name": "stdout",
     "output_type": "stream",
     "text": [
      "x: tensor([-0.7477,  0.4827,  0.6035])\n",
      "y: tensor([0., 1., 0.])\n"
     ]
    }
   ],
   "source": [
    "print('x:',x)\n",
    "print('y:',y)"
   ]
  },
  {
   "cell_type": "code",
   "execution_count": 106,
   "metadata": {},
   "outputs": [
    {
     "name": "stdout",
     "output_type": "stream",
     "text": [
      "binary cross entropy loss value: tensor(0.6360)\n"
     ]
    }
   ],
   "source": [
    "# Binary Cross Entropy Loss\n",
    "bce_loss = nn.BCELoss()\n",
    "sigmoid = nn.Sigmoid()\n",
    "\n",
    "x_sigmoid = sigmoid(x)\n",
    "print('binary cross entropy loss value:', bce_loss(x_sigmoid,y))"
   ]
  },
  {
   "cell_type": "markdown",
   "metadata": {},
   "source": [
    "Binary Cross Entropy With Logits Loss (nn.BCEWithLogitsLoss())\n",
    "- Binary Class (0/1)에 적용\n",
    "- Loss안에 Sigmoid가 내장되어있음"
   ]
  },
  {
   "cell_type": "code",
   "execution_count": 111,
   "metadata": {},
   "outputs": [
    {
     "name": "stdout",
     "output_type": "stream",
     "text": [
      "binary cross entropy loss value: tensor(0.6360)\n"
     ]
    }
   ],
   "source": [
    "# Binary Cross Entropy Loss\n",
    "bce_with_logits_loss = nn.BCEWithLogitsLoss()\n",
    "\n",
    "print('binary cross entropy loss value:', bce_with_logits_loss(x,y))"
   ]
  },
  {
   "cell_type": "markdown",
   "metadata": {},
   "source": [
    "Cross Entropy Loss (nn.CrossEntropyLoss())\n",
    "- Multi Class에서 적용\n",
    "- Loss안에 Softmax가 내장되어 있음"
   ]
  },
  {
   "cell_type": "code",
   "execution_count": 81,
   "metadata": {},
   "outputs": [],
   "source": [
    "x = torch.randn(1,10)\n",
    "y = torch.tensor([1])"
   ]
  },
  {
   "cell_type": "code",
   "execution_count": 82,
   "metadata": {},
   "outputs": [
    {
     "name": "stdout",
     "output_type": "stream",
     "text": [
      "x: tensor([[-1.3782,  0.8480, -0.1404,  1.0514, -1.0601,  0.1745,  0.1179, -1.1434,\n",
      "         -0.2724, -1.2614]])\n",
      "y: tensor([1])\n"
     ]
    }
   ],
   "source": [
    "print('x:',x)\n",
    "print('y:',y)"
   ]
  },
  {
   "cell_type": "code",
   "execution_count": 83,
   "metadata": {},
   "outputs": [
    {
     "name": "stdout",
     "output_type": "stream",
     "text": [
      "cross_entropy loss value: tensor(1.4884)\n"
     ]
    }
   ],
   "source": [
    "# Cross Entropy Loss\n",
    "\n",
    "cross_entropy_loss = nn.CrossEntropyLoss()\n",
    "# Softmax와 Log를 한 후 Cross Entropy Loss\n",
    "\n",
    "print('cross_entropy loss value:', cross_entropy_loss(x,y))"
   ]
  },
  {
   "cell_type": "markdown",
   "metadata": {},
   "source": [
    "### MSE"
   ]
  },
  {
   "cell_type": "code",
   "execution_count": 112,
   "metadata": {},
   "outputs": [],
   "source": [
    "x = torch.randn(1,10)\n",
    "y = torch.randn(1,10)"
   ]
  },
  {
   "cell_type": "code",
   "execution_count": 113,
   "metadata": {},
   "outputs": [
    {
     "name": "stdout",
     "output_type": "stream",
     "text": [
      "cross_entropy loss value: tensor(1.4131)\n"
     ]
    }
   ],
   "source": [
    "mse_loss = nn.MSELoss()\n",
    "print('cross_entropy loss value:', mse_loss(x,y))"
   ]
  }
 ],
 "metadata": {
  "kernelspec": {
   "display_name": "minkyu",
   "language": "python",
   "name": "minkyu"
  },
  "language_info": {
   "codemirror_mode": {
    "name": "ipython",
    "version": 3
   },
   "file_extension": ".py",
   "mimetype": "text/x-python",
   "name": "python",
   "nbconvert_exporter": "python",
   "pygments_lexer": "ipython3",
   "version": "3.7.7"
  }
 },
 "nbformat": 4,
 "nbformat_minor": 4
}
