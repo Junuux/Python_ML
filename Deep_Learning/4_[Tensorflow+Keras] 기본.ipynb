{
 "cells": [
  {
   "cell_type": "code",
   "execution_count": 1,
   "metadata": {},
   "outputs": [
    {
     "name": "stdout",
     "output_type": "stream",
     "text": [
      "Requirement already satisfied: tensorflow in c:\\users\\jack0\\appdata\\local\\programs\\python\\python38\\lib\\site-packages (2.8.0)\n",
      "Requirement already satisfied: opt-einsum>=2.3.2 in c:\\users\\jack0\\appdata\\local\\programs\\python\\python38\\lib\\site-packages (from tensorflow) (3.3.0)\n",
      "Requirement already satisfied: numpy>=1.20 in c:\\users\\jack0\\appdata\\local\\programs\\python\\python38\\lib\\site-packages (from tensorflow) (1.22.0)\n",
      "Requirement already satisfied: keras-preprocessing>=1.1.1 in c:\\users\\jack0\\appdata\\local\\programs\\python\\python38\\lib\\site-packages (from tensorflow) (1.1.2)\n",
      "Requirement already satisfied: h5py>=2.9.0 in c:\\users\\jack0\\appdata\\local\\programs\\python\\python38\\lib\\site-packages (from tensorflow) (3.6.0)\n",
      "Requirement already satisfied: tf-estimator-nightly==2.8.0.dev2021122109 in c:\\users\\jack0\\appdata\\local\\programs\\python\\python38\\lib\\site-packages (from tensorflow) (2.8.0.dev2021122109)\n",
      "Requirement already satisfied: tensorboard<2.9,>=2.8 in c:\\users\\jack0\\appdata\\local\\programs\\python\\python38\\lib\\site-packages (from tensorflow) (2.8.0)\n",
      "Requirement already satisfied: setuptools in c:\\users\\jack0\\appdata\\local\\programs\\python\\python38\\lib\\site-packages (from tensorflow) (47.1.0)\n",
      "Requirement already satisfied: typing-extensions>=3.6.6 in c:\\users\\jack0\\appdata\\local\\programs\\python\\python38\\lib\\site-packages (from tensorflow) (4.2.0)\n",
      "Requirement already satisfied: gast>=0.2.1 in c:\\users\\jack0\\appdata\\local\\programs\\python\\python38\\lib\\site-packages (from tensorflow) (0.5.3)\n",
      "Requirement already satisfied: absl-py>=0.4.0 in c:\\users\\jack0\\appdata\\local\\programs\\python\\python38\\lib\\site-packages (from tensorflow) (1.0.0)\n",
      "Requirement already satisfied: six>=1.12.0 in c:\\users\\jack0\\appdata\\local\\programs\\python\\python38\\lib\\site-packages (from tensorflow) (1.16.0)\n",
      "Requirement already satisfied: wrapt>=1.11.0 in c:\\users\\jack0\\appdata\\local\\programs\\python\\python38\\lib\\site-packages (from tensorflow) (1.14.0)\n",
      "Requirement already satisfied: tensorflow-io-gcs-filesystem>=0.23.1 in c:\\users\\jack0\\appdata\\local\\programs\\python\\python38\\lib\\site-packages (from tensorflow) (0.25.0)\n",
      "Requirement already satisfied: astunparse>=1.6.0 in c:\\users\\jack0\\appdata\\local\\programs\\python\\python38\\lib\\site-packages (from tensorflow) (1.6.3)\n",
      "Requirement already satisfied: termcolor>=1.1.0 in c:\\users\\jack0\\appdata\\local\\programs\\python\\python38\\lib\\site-packages (from tensorflow) (1.1.0)\n",
      "Requirement already satisfied: flatbuffers>=1.12 in c:\\users\\jack0\\appdata\\local\\programs\\python\\python38\\lib\\site-packages (from tensorflow) (2.0)\n",
      "Requirement already satisfied: protobuf>=3.9.2 in c:\\users\\jack0\\appdata\\local\\programs\\python\\python38\\lib\\site-packages (from tensorflow) (3.20.1)\n",
      "Requirement already satisfied: keras<2.9,>=2.8.0rc0 in c:\\users\\jack0\\appdata\\local\\programs\\python\\python38\\lib\\site-packages (from tensorflow) (2.8.0)\n",
      "Requirement already satisfied: libclang>=9.0.1 in c:\\users\\jack0\\appdata\\local\\programs\\python\\python38\\lib\\site-packages (from tensorflow) (14.0.1)\n",
      "Requirement already satisfied: grpcio<2.0,>=1.24.3 in c:\\users\\jack0\\appdata\\local\\programs\\python\\python38\\lib\\site-packages (from tensorflow) (1.44.0)\n",
      "Requirement already satisfied: google-pasta>=0.1.1 in c:\\users\\jack0\\appdata\\local\\programs\\python\\python38\\lib\\site-packages (from tensorflow) (0.2.0)\n",
      "Requirement already satisfied: wheel<1.0,>=0.23.0 in c:\\users\\jack0\\appdata\\local\\programs\\python\\python38\\lib\\site-packages (from astunparse>=1.6.0->tensorflow) (0.37.1)\n",
      "Requirement already satisfied: markdown>=2.6.8 in c:\\users\\jack0\\appdata\\local\\programs\\python\\python38\\lib\\site-packages (from tensorboard<2.9,>=2.8->tensorflow) (3.3.6)\n",
      "Requirement already satisfied: tensorboard-data-server<0.7.0,>=0.6.0 in c:\\users\\jack0\\appdata\\local\\programs\\python\\python38\\lib\\site-packages (from tensorboard<2.9,>=2.8->tensorflow) (0.6.1)\n",
      "Requirement already satisfied: google-auth<3,>=1.6.3 in c:\\users\\jack0\\appdata\\local\\programs\\python\\python38\\lib\\site-packages (from tensorboard<2.9,>=2.8->tensorflow) (2.6.6)\n",
      "Requirement already satisfied: tensorboard-plugin-wit>=1.6.0 in c:\\users\\jack0\\appdata\\local\\programs\\python\\python38\\lib\\site-packages (from tensorboard<2.9,>=2.8->tensorflow) (1.8.1)\n",
      "Requirement already satisfied: werkzeug>=0.11.15 in c:\\users\\jack0\\appdata\\local\\programs\\python\\python38\\lib\\site-packages (from tensorboard<2.9,>=2.8->tensorflow) (2.1.2)\n",
      "Requirement already satisfied: requests<3,>=2.21.0 in c:\\users\\jack0\\appdata\\local\\programs\\python\\python38\\lib\\site-packages (from tensorboard<2.9,>=2.8->tensorflow) (2.27.1)\n",
      "Requirement already satisfied: google-auth-oauthlib<0.5,>=0.4.1 in c:\\users\\jack0\\appdata\\local\\programs\\python\\python38\\lib\\site-packages (from tensorboard<2.9,>=2.8->tensorflow) (0.4.6)\n",
      "Requirement already satisfied: cachetools<6.0,>=2.0.0 in c:\\users\\jack0\\appdata\\local\\programs\\python\\python38\\lib\\site-packages (from google-auth<3,>=1.6.3->tensorboard<2.9,>=2.8->tensorflow) (5.0.0)\n",
      "Requirement already satisfied: rsa<5,>=3.1.4 in c:\\users\\jack0\\appdata\\local\\programs\\python\\python38\\lib\\site-packages (from google-auth<3,>=1.6.3->tensorboard<2.9,>=2.8->tensorflow) (4.8)\n",
      "Requirement already satisfied: pyasn1-modules>=0.2.1 in c:\\users\\jack0\\appdata\\local\\programs\\python\\python38\\lib\\site-packages (from google-auth<3,>=1.6.3->tensorboard<2.9,>=2.8->tensorflow) (0.2.8)\n",
      "Requirement already satisfied: requests-oauthlib>=0.7.0 in c:\\users\\jack0\\appdata\\local\\programs\\python\\python38\\lib\\site-packages (from google-auth-oauthlib<0.5,>=0.4.1->tensorboard<2.9,>=2.8->tensorflow) (1.3.1)\n",
      "Requirement already satisfied: importlib-metadata>=4.4 in c:\\users\\jack0\\appdata\\local\\programs\\python\\python38\\lib\\site-packages (from markdown>=2.6.8->tensorboard<2.9,>=2.8->tensorflow) (4.11.3)\n",
      "Requirement already satisfied: zipp>=0.5 in c:\\users\\jack0\\appdata\\local\\programs\\python\\python38\\lib\\site-packages (from importlib-metadata>=4.4->markdown>=2.6.8->tensorboard<2.9,>=2.8->tensorflow) (3.8.0)\n",
      "Requirement already satisfied: pyasn1<0.5.0,>=0.4.6 in c:\\users\\jack0\\appdata\\local\\programs\\python\\python38\\lib\\site-packages (from pyasn1-modules>=0.2.1->google-auth<3,>=1.6.3->tensorboard<2.9,>=2.8->tensorflow) (0.4.8)\n",
      "Requirement already satisfied: idna<4,>=2.5 in c:\\users\\jack0\\appdata\\local\\programs\\python\\python38\\lib\\site-packages (from requests<3,>=2.21.0->tensorboard<2.9,>=2.8->tensorflow) (3.3)\n",
      "Requirement already satisfied: certifi>=2017.4.17 in c:\\users\\jack0\\appdata\\local\\programs\\python\\python38\\lib\\site-packages (from requests<3,>=2.21.0->tensorboard<2.9,>=2.8->tensorflow) (2021.10.8)\n",
      "Requirement already satisfied: urllib3<1.27,>=1.21.1 in c:\\users\\jack0\\appdata\\local\\programs\\python\\python38\\lib\\site-packages (from requests<3,>=2.21.0->tensorboard<2.9,>=2.8->tensorflow) (1.26.9)\n",
      "Requirement already satisfied: charset-normalizer~=2.0.0 in c:\\users\\jack0\\appdata\\local\\programs\\python\\python38\\lib\\site-packages (from requests<3,>=2.21.0->tensorboard<2.9,>=2.8->tensorflow) (2.0.12)\n",
      "Requirement already satisfied: oauthlib>=3.0.0 in c:\\users\\jack0\\appdata\\local\\programs\\python\\python38\\lib\\site-packages (from requests-oauthlib>=0.7.0->google-auth-oauthlib<0.5,>=0.4.1->tensorboard<2.9,>=2.8->tensorflow) (3.2.0)\n",
      "Note: you may need to restart the kernel to use updated packages.\n"
     ]
    },
    {
     "name": "stderr",
     "output_type": "stream",
     "text": [
      "WARNING: You are using pip version 21.0.1; however, version 22.0.4 is available.\n",
      "You should consider upgrading via the 'c:\\Users\\jack0\\AppData\\Local\\Programs\\Python\\Python38\\python.exe -m pip install --upgrade pip' command.\n"
     ]
    }
   ],
   "source": [
    "pip install tensorflow"
   ]
  },
  {
   "cell_type": "code",
   "execution_count": 2,
   "metadata": {},
   "outputs": [],
   "source": [
    "import tensorflow as tf"
   ]
  },
  {
   "cell_type": "code",
   "execution_count": 3,
   "metadata": {},
   "outputs": [
    {
     "data": {
      "text/plain": [
       "'2.8.0'"
      ]
     },
     "execution_count": 3,
     "metadata": {},
     "output_type": "execute_result"
    }
   ],
   "source": [
    "tf.__version__"
   ]
  },
  {
   "cell_type": "markdown",
   "metadata": {},
   "source": [
    "## Tensor 정의"
   ]
  },
  {
   "cell_type": "code",
   "execution_count": 4,
   "metadata": {},
   "outputs": [],
   "source": [
    "a = tf.constant(5)\n",
    "b = tf.constant(10)\n",
    "c = tf.constant(15)"
   ]
  },
  {
   "cell_type": "code",
   "execution_count": 5,
   "metadata": {},
   "outputs": [
    {
     "name": "stdout",
     "output_type": "stream",
     "text": [
      "tf.Tensor(b'tensorflow', shape=(), dtype=string)\n"
     ]
    }
   ],
   "source": [
    "string = tf.constant('tensorflow')\n",
    "print(string)"
   ]
  },
  {
   "cell_type": "markdown",
   "metadata": {},
   "source": [
    "tensor를 numpy로"
   ]
  },
  {
   "cell_type": "code",
   "execution_count": 6,
   "metadata": {},
   "outputs": [
    {
     "name": "stdout",
     "output_type": "stream",
     "text": [
      "tensor a: tf.Tensor(5, shape=(), dtype=int32)\n",
      "numpy a : 5\n"
     ]
    }
   ],
   "source": [
    "print('tensor a:',a) # tensor\n",
    "print('numpy a :', a.numpy()) # numpy"
   ]
  },
  {
   "cell_type": "markdown",
   "metadata": {},
   "source": [
    "tensor 랜덤 생성"
   ]
  },
  {
   "cell_type": "code",
   "execution_count": 7,
   "metadata": {},
   "outputs": [
    {
     "name": "stdout",
     "output_type": "stream",
     "text": [
      "rand_tensor: tf.Tensor(\n",
      "[[ 1.4189628  1.3524977]\n",
      " [-1.0291979  0.856922 ]], shape=(2, 2), dtype=float32) (2, 2)\n"
     ]
    }
   ],
   "source": [
    "rand_tensor = tf.random.normal(shape=(2,2), mean=0., stddev=1.) # random.normal : normal 정규분포에서 랜덤하게 추출\n",
    "print('rand_tensor:', rand_tensor, rand_tensor.shape)"
   ]
  },
  {
   "cell_type": "code",
   "execution_count": 8,
   "metadata": {},
   "outputs": [
    {
     "name": "stdout",
     "output_type": "stream",
     "text": [
      "rand_tensor: tf.Tensor(\n",
      "[[0.71352255 0.19333792]\n",
      " [0.52763414 0.39766002]], shape=(2, 2), dtype=float32) (2, 2)\n"
     ]
    }
   ],
   "source": [
    "rand_tensor = tf.random.uniform(shape=(2,2), minval=0., maxval=1.)\n",
    "print('rand_tensor:', rand_tensor, rand_tensor.shape)"
   ]
  },
  {
   "cell_type": "markdown",
   "metadata": {},
   "source": [
    "## 텐서 연산"
   ]
  },
  {
   "cell_type": "markdown",
   "metadata": {},
   "source": [
    "tensor 인덱싱과 슬라이싱"
   ]
  },
  {
   "cell_type": "code",
   "execution_count": 9,
   "metadata": {},
   "outputs": [
    {
     "data": {
      "text/plain": [
       "<tf.Tensor: shape=(2, 3), dtype=int32, numpy=\n",
       "array([[1, 2, 3],\n",
       "       [4, 5, 6]])>"
      ]
     },
     "execution_count": 9,
     "metadata": {},
     "output_type": "execute_result"
    }
   ],
   "source": [
    "x_tensor = tf.constant([[1,2,3],[4,5,6]])\n",
    "x_tensor"
   ]
  },
  {
   "cell_type": "code",
   "execution_count": 10,
   "metadata": {},
   "outputs": [
    {
     "name": "stdout",
     "output_type": "stream",
     "text": [
      "first row: tf.Tensor([1 2 3], shape=(3,), dtype=int32)\n",
      "second row: tf.Tensor([4 5 6], shape=(3,), dtype=int32)\n",
      "last row: tf.Tensor([4 5 6], shape=(3,), dtype=int32)\n",
      "----------------------------------------\n",
      "first column: tf.Tensor([1 4], shape=(2,), dtype=int32)\n",
      "second column: tf.Tensor([2 5], shape=(2,), dtype=int32)\n",
      "last column: tf.Tensor([3 6], shape=(2,), dtype=int32)\n",
      "----------------------------------------\n",
      "second row, last column: tf.Tensor(6, shape=(), dtype=int32)\n"
     ]
    }
   ],
   "source": [
    "print('first row:',x_tensor[0])\n",
    "print('second row:',x_tensor[1])\n",
    "print('last row:',x_tensor[-1,:])\n",
    "\n",
    "print('-'*40)\n",
    "\n",
    "print('first column:',x_tensor[:,0])\n",
    "print('second column:',x_tensor[:,1])\n",
    "print('last column:',x_tensor[:,-1])\n",
    "\n",
    "print('-'*40)\n",
    "\n",
    "print('second row, last column:',x_tensor[1,2])"
   ]
  },
  {
   "cell_type": "markdown",
   "metadata": {},
   "source": [
    "tensor concatenate"
   ]
  },
  {
   "cell_type": "code",
   "execution_count": 11,
   "metadata": {},
   "outputs": [
    {
     "name": "stdout",
     "output_type": "stream",
     "text": [
      "axis=0: tf.Tensor(\n",
      "[[1 2 3]\n",
      " [4 5 6]\n",
      " [1 2 3]\n",
      " [4 5 6]], shape=(4, 3), dtype=int32) (4, 3)\n",
      "----------------------------------------\n",
      "axis=1: tf.Tensor(\n",
      "[[1 2 3 1 2 3]\n",
      " [4 5 6 4 5 6]], shape=(2, 6), dtype=int32) (2, 6)\n"
     ]
    }
   ],
   "source": [
    "x_tensor = tf.constant([[1,2,3],[4,5,6]])\n",
    "\n",
    "concatenated_dim0 = tf.concat([x_tensor,x_tensor], axis=0)\n",
    "print('axis=0:', concatenated_dim0, concatenated_dim0.shape)\n",
    "\n",
    "print('-'*40)\n",
    "\n",
    "concatenated_dim1 = tf.concat([x_tensor,x_tensor], axis=1)\n",
    "print('axis=1:', concatenated_dim1, concatenated_dim1.shape)"
   ]
  },
  {
   "cell_type": "markdown",
   "metadata": {},
   "source": [
    "tensor 크기 변경 : reshape"
   ]
  },
  {
   "cell_type": "code",
   "execution_count": 12,
   "metadata": {},
   "outputs": [
    {
     "name": "stdout",
     "output_type": "stream",
     "text": [
      "x_tensor: tf.Tensor(\n",
      "[[1 2 3]\n",
      " [4 5 6]], shape=(2, 3), dtype=int32) (2, 3)\n",
      "----------------------------------------\n",
      "x_tensor reshape - 2x3 to 3x2 :  tf.Tensor(\n",
      "[[1 2]\n",
      " [3 4]\n",
      " [5 6]], shape=(3, 2), dtype=int32)\n"
     ]
    }
   ],
   "source": [
    "print('x_tensor:', x_tensor, x_tensor.shape)\n",
    "\n",
    "print('-'*40)\n",
    "\n",
    "print('x_tensor reshape - 2x3 to 3x2 : ', tf.reshape(x_tensor,(3,2)))"
   ]
  },
  {
   "cell_type": "markdown",
   "metadata": {},
   "source": [
    "산술 연산"
   ]
  },
  {
   "cell_type": "code",
   "execution_count": 14,
   "metadata": {},
   "outputs": [
    {
     "data": {
      "text/plain": [
       "(<tf.Tensor: shape=(), dtype=int32, numpy=5>,\n",
       " <tf.Tensor: shape=(), dtype=int32, numpy=10>,\n",
       " <tf.Tensor: shape=(), dtype=int32, numpy=15>)"
      ]
     },
     "execution_count": 14,
     "metadata": {},
     "output_type": "execute_result"
    }
   ],
   "source": [
    "a, b, c"
   ]
  },
  {
   "cell_type": "code",
   "execution_count": 16,
   "metadata": {},
   "outputs": [
    {
     "name": "stdout",
     "output_type": "stream",
     "text": [
      "add: tf.Tensor(15, shape=(), dtype=int32)\n",
      "sub: tf.Tensor(-5, shape=(), dtype=int32)\n",
      "mul: tf.Tensor(50, shape=(), dtype=int32)\n",
      "div: tf.Tensor(0.5, shape=(), dtype=float64)\n",
      "mean: tf.Tensor(10, shape=(), dtype=int32)\n",
      "sum: tf.Tensor(30, shape=(), dtype=int32)\n"
     ]
    }
   ],
   "source": [
    "add = tf.add(a,b)\n",
    "print('add:', add)\n",
    "\n",
    "sub = tf.subtract(a,b)\n",
    "print('sub:', sub)\n",
    "\n",
    "mul = tf.multiply(a,b)\n",
    "print('mul:', mul)\n",
    "\n",
    "div = tf.divide(a,b)\n",
    "print('div:', div)\n",
    "\n",
    "mean = tf.reduce_mean([a,b,c]) # 평균 : reduce_mean\n",
    "print('mean:', mean)\n",
    "\n",
    "sum = tf.reduce_sum([a,b,c]) # 합산 : reduce_sum\n",
    "print('sum:', sum)"
   ]
  },
  {
   "cell_type": "code",
   "execution_count": 17,
   "metadata": {},
   "outputs": [
    {
     "name": "stdout",
     "output_type": "stream",
     "text": [
      "mat_mul: tf.Tensor(\n",
      "[[ 50  68]\n",
      " [122 167]], shape=(2, 2), dtype=int32) (2, 2)\n"
     ]
    }
   ],
   "source": [
    "# Matrix Multiplication\n",
    "\n",
    "x_tensor1 = tf.constant([[1,2,3],[4,5,6]])\n",
    "x_tensor2 = tf.constant([[7,8,9],[10,11,12]])\n",
    "\n",
    "mat_mul = tf.matmul(x_tensor1, tf.transpose(x_tensor2))\n",
    "# tf.transpose : 행렬 곱을 만들기 위해 x_tensor2를 transpose 취함\n",
    "\n",
    "print('mat_mul:', mat_mul, mat_mul.shape)"
   ]
  },
  {
   "cell_type": "code",
   "execution_count": 18,
   "metadata": {},
   "outputs": [
    {
     "data": {
      "text/plain": [
       "(<tf.Tensor: shape=(2, 3), dtype=int32, numpy=\n",
       " array([[1, 2, 3],\n",
       "        [4, 5, 6]])>,\n",
       " <tf.Tensor: shape=(3, 2), dtype=int32, numpy=\n",
       " array([[ 7, 10],\n",
       "        [ 8, 11],\n",
       "        [ 9, 12]])>)"
      ]
     },
     "execution_count": 18,
     "metadata": {},
     "output_type": "execute_result"
    }
   ],
   "source": [
    "x_tensor1, tf.transpose(x_tensor2)"
   ]
  },
  {
   "cell_type": "markdown",
   "metadata": {},
   "source": [
    "## 데이터"
   ]
  },
  {
   "cell_type": "code",
   "execution_count": 19,
   "metadata": {},
   "outputs": [],
   "source": [
    "from tensorflow.keras.datasets import mnist\n",
    "(train_images, train_labels), (test_images, test_labels) = mnist.load_data()"
   ]
  },
  {
   "cell_type": "code",
   "execution_count": 21,
   "metadata": {},
   "outputs": [
    {
     "name": "stdout",
     "output_type": "stream",
     "text": [
      "train data: (60000, 28, 28) 60000\n",
      "train labels: [5 0 4 ... 5 6 8]\n",
      "test data: (10000, 28, 28) 10000\n",
      "test labels: [7 2 1 ... 4 5 6]\n"
     ]
    }
   ],
   "source": [
    "print('train data:', train_images.shape, len(train_labels))\n",
    "print('train labels:', train_labels)\n",
    "print('test data:', test_images.shape, len(test_labels))\n",
    "print('test labels:', test_labels)"
   ]
  },
  {
   "cell_type": "code",
   "execution_count": 22,
   "metadata": {},
   "outputs": [],
   "source": [
    "import matplotlib.pyplot as plt"
   ]
  },
  {
   "cell_type": "code",
   "execution_count": 27,
   "metadata": {},
   "outputs": [
    {
     "data": {
      "text/plain": [
       "(28, 28)"
      ]
     },
     "execution_count": 27,
     "metadata": {},
     "output_type": "execute_result"
    }
   ],
   "source": [
    "train_images[1].shape"
   ]
  },
  {
   "cell_type": "code",
   "execution_count": 26,
   "metadata": {},
   "outputs": [
    {
     "name": "stdout",
     "output_type": "stream",
     "text": [
      "label: 0\n"
     ]
    },
    {
     "data": {
      "image/png": "[encoded data removed]",
      "text/plain": [
       "<Figure size 432x288 with 1 Axes>"
      ]
     },
     "metadata": {
      "needs_background": "light"
     },
     "output_type": "display_data"
    }
   ],
   "source": [
    "image = train_images[1]\n",
    "plt.imshow(image)\n",
    "print('label:',train_labels[1])"
   ]
  },
  {
   "cell_type": "code",
   "execution_count": null,
   "metadata": {},
   "outputs": [],
   "source": []
  }
 ],
 "metadata": {
  "interpreter": {
   "hash": "f2e2bce360819f88e39cac25630043f28fab3036cf9216375971b4d97393a103"
  },
  "kernelspec": {
   "display_name": "Python 3.8.5 64-bit",
   "language": "python",
   "name": "python3"
  },
  "language_info": {
   "codemirror_mode": {
    "name": "ipython",
    "version": 3
   },
   "file_extension": ".py",
   "mimetype": "text/x-python",
   "name": "python",
   "nbconvert_exporter": "python",
   "pygments_lexer": "ipython3",
   "version": "3.8.5"
  }
 },
 "nbformat": 4,
 "nbformat_minor": 4
}
