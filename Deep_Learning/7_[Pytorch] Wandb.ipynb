{
 "cells": [
  {
   "cell_type": "code",
   "execution_count": 58,
   "metadata": {},
   "outputs": [],
   "source": [
    "import torch\n",
    "import torch.nn as nn\n",
    "import torchvision\n",
    "from torchvision import datasets, transforms\n",
    "from torch.utils.data import DataLoader\n",
    "\n",
    "# MNIST 데이터셋 \n",
    "train_data = datasets.MNIST(\n",
    "    root=\"../data\",\n",
    "    train=True,\n",
    "    download=True,\n",
    "    transform=transforms.ToTensor(),\n",
    ")\n",
    "\n",
    "test_data = datasets.MNIST(\n",
    "    root=\"../data\",\n",
    "    train=False,\n",
    "    download=True,\n",
    "    transform=transforms.ToTensor(),\n",
    ")"
   ]
  },
  {
   "cell_type": "code",
   "execution_count": 35,
   "metadata": {
    "collapsed": true,
    "jupyter": {
     "outputs_hidden": true
    }
   },
   "outputs": [
    {
     "name": "stdout",
     "output_type": "stream",
     "text": [
      "Requirement already satisfied: wandb in /Users/minkyujeon/anaconda3/lib/python3.8/site-packages (0.12.2)\n",
      "Requirement already satisfied: yaspin>=1.0.0 in /Users/minkyujeon/anaconda3/lib/python3.8/site-packages (from wandb) (2.1.0)\n",
      "Requirement already satisfied: requests<3,>=2.0.0 in /Users/minkyujeon/anaconda3/lib/python3.8/site-packages (from wandb) (2.24.0)\n",
      "Requirement already satisfied: psutil>=5.0.0 in /Users/minkyujeon/anaconda3/lib/python3.8/site-packages (from wandb) (5.7.0)\n",
      "Requirement already satisfied: Click!=8.0.0,>=7.0 in /Users/minkyujeon/anaconda3/lib/python3.8/site-packages (from wandb) (7.1.2)\n",
      "Requirement already satisfied: six>=1.13.0 in /Users/minkyujeon/anaconda3/lib/python3.8/site-packages (from wandb) (1.15.0)\n",
      "Requirement already satisfied: subprocess32>=3.5.3 in /Users/minkyujeon/anaconda3/lib/python3.8/site-packages (from wandb) (3.5.4)\n",
      "Requirement already satisfied: python-dateutil>=2.6.1 in /Users/minkyujeon/anaconda3/lib/python3.8/site-packages (from wandb) (2.8.1)\n",
      "Requirement already satisfied: protobuf>=3.12.0 in /Users/minkyujeon/anaconda3/lib/python3.8/site-packages (from wandb) (3.17.3)\n",
      "Requirement already satisfied: sentry-sdk>=1.0.0 in /Users/minkyujeon/anaconda3/lib/python3.8/site-packages (from wandb) (1.3.1)\n",
      "Requirement already satisfied: PyYAML in /Users/minkyujeon/anaconda3/lib/python3.8/site-packages (from wandb) (5.3.1)\n",
      "Requirement already satisfied: configparser>=3.8.1 in /Users/minkyujeon/anaconda3/lib/python3.8/site-packages (from wandb) (5.0.2)\n",
      "Requirement already satisfied: shortuuid>=0.5.0 in /Users/minkyujeon/anaconda3/lib/python3.8/site-packages (from wandb) (1.0.1)\n",
      "Requirement already satisfied: docker-pycreds>=0.4.0 in /Users/minkyujeon/anaconda3/lib/python3.8/site-packages (from wandb) (0.4.0)\n",
      "Requirement already satisfied: GitPython>=1.0.0 in /Users/minkyujeon/anaconda3/lib/python3.8/site-packages (from wandb) (3.1.24)\n",
      "Requirement already satisfied: promise<3,>=2.0 in /Users/minkyujeon/anaconda3/lib/python3.8/site-packages (from wandb) (2.3)\n",
      "Requirement already satisfied: pathtools in /Users/minkyujeon/anaconda3/lib/python3.8/site-packages (from wandb) (0.1.2)\n",
      "Requirement already satisfied: typing-extensions>=3.7.4.3 in /Users/minkyujeon/anaconda3/lib/python3.8/site-packages (from GitPython>=1.0.0->wandb) (3.10.0.2)\n",
      "Requirement already satisfied: gitdb<5,>=4.0.1 in /Users/minkyujeon/anaconda3/lib/python3.8/site-packages (from GitPython>=1.0.0->wandb) (4.0.7)\n",
      "Requirement already satisfied: smmap<5,>=3.0.1 in /Users/minkyujeon/anaconda3/lib/python3.8/site-packages (from gitdb<5,>=4.0.1->GitPython>=1.0.0->wandb) (4.0.0)\n",
      "Requirement already satisfied: idna<3,>=2.5 in /Users/minkyujeon/anaconda3/lib/python3.8/site-packages (from requests<3,>=2.0.0->wandb) (2.10)\n",
      "Requirement already satisfied: chardet<4,>=3.0.2 in /Users/minkyujeon/anaconda3/lib/python3.8/site-packages (from requests<3,>=2.0.0->wandb) (3.0.4)\n",
      "Requirement already satisfied: certifi>=2017.4.17 in /Users/minkyujeon/anaconda3/lib/python3.8/site-packages (from requests<3,>=2.0.0->wandb) (2020.6.20)\n",
      "Requirement already satisfied: urllib3!=1.25.0,!=1.25.1,<1.26,>=1.21.1 in /Users/minkyujeon/anaconda3/lib/python3.8/site-packages (from requests<3,>=2.0.0->wandb) (1.25.9)\n",
      "Requirement already satisfied: termcolor<2.0.0,>=1.1.0 in /Users/minkyujeon/anaconda3/lib/python3.8/site-packages (from yaspin>=1.0.0->wandb) (1.1.0)\n"
     ]
    }
   ],
   "source": [
    "!pip install wandb"
   ]
  },
  {
   "cell_type": "code",
   "execution_count": 59,
   "metadata": {},
   "outputs": [
    {
     "name": "stderr",
     "output_type": "stream",
     "text": [
      "\u001b[34m\u001b[1mwandb\u001b[0m: \u001b[33mWARNING\u001b[0m Calling wandb.login() after wandb.init() has no effect.\n"
     ]
    },
    {
     "data": {
      "text/plain": [
       "True"
      ]
     },
     "execution_count": 59,
     "metadata": {},
     "output_type": "execute_result"
    }
   ],
   "source": [
    "import wandb\n",
    "\n",
    "wandb.login()"
   ]
  },
  {
   "cell_type": "code",
   "execution_count": 60,
   "metadata": {},
   "outputs": [],
   "source": [
    "args = dict(\n",
    "    total_epochs=3,\n",
    "    batch_size=128,\n",
    "    learning_rate=0.005,\n",
    "    num_classes=10,\n",
    "    hidden_size=100)"
   ]
  },
  {
   "cell_type": "code",
   "execution_count": 61,
   "metadata": {},
   "outputs": [
    {
     "data": {
      "text/html": [
       "Finishing last run (ID:2rx7mjtg) before initializing another..."
      ],
      "text/plain": [
       "<IPython.core.display.HTML object>"
      ]
     },
     "metadata": {},
     "output_type": "display_data"
    },
    {
     "data": {
      "text/html": [
       "<br/>Waiting for W&B process to finish, PID 89935<br/>Program ended successfully."
      ],
      "text/plain": [
       "<IPython.core.display.HTML object>"
      ]
     },
     "metadata": {},
     "output_type": "display_data"
    },
    {
     "data": {
      "text/html": [
       "Find user logs for this run at: <code>/Users/minkyujeon/Documents/Fast_Campus/Fast_campus_강의자료/강의자료-code/Chapter2/wandb/run-20210920_224230-2rx7mjtg/logs/debug.log</code>"
      ],
      "text/plain": [
       "<IPython.core.display.HTML object>"
      ]
     },
     "metadata": {},
     "output_type": "display_data"
    },
    {
     "data": {
      "text/html": [
       "Find internal logs for this run at: <code>/Users/minkyujeon/Documents/Fast_Campus/Fast_campus_강의자료/강의자료-code/Chapter2/wandb/run-20210920_224230-2rx7mjtg/logs/debug-internal.log</code>"
      ],
      "text/plain": [
       "<IPython.core.display.HTML object>"
      ]
     },
     "metadata": {},
     "output_type": "display_data"
    },
    {
     "data": {
      "text/html": [
       "<h3>Run summary:</h3><br/><style>\n",
       "    table.wandb td:nth-child(1) { padding: 0 10px; text-align: right }\n",
       "    </style><table class=\"wandb\">\n",
       "<tr><td>CE loss</td><td>0.1303</td></tr><tr><td>Current Epoch</td><td>2</td></tr><tr><td>test accuracy</td><td>0.97288</td></tr></table>"
      ],
      "text/plain": [
       "<IPython.core.display.HTML object>"
      ]
     },
     "metadata": {},
     "output_type": "display_data"
    },
    {
     "data": {
      "text/html": [
       "<h3>Run history:</h3><br/><style>\n",
       "    table.wandb td:nth-child(1) { padding: 0 10px; text-align: right }\n",
       "    </style><table class=\"wandb\">\n",
       "<tr><td>CE loss</td><td>█▃▃▃▅▃▃▂▄▂▂▃▂▂▂▂▁▂▃▃▂▁▂▁▂▂▃▁▁▁▃▁▁▂▂▂▂▃▃▂</td></tr><tr><td>Current Epoch</td><td>▁▁▁▁▁▁▁▁▁▁▁▁▁▁▅▅▅▅▅▅▅▅▅▅▅▅▅█████████████</td></tr><tr><td>test accuracy</td><td>▄▁▂▃▅▇█</td></tr></table><br/>"
      ],
      "text/plain": [
       "<IPython.core.display.HTML object>"
      ]
     },
     "metadata": {},
     "output_type": "display_data"
    },
    {
     "data": {
      "text/html": [
       "Synced 6 W&B file(s), 0 media file(s), 0 artifact file(s) and 0 other file(s)"
      ],
      "text/plain": [
       "<IPython.core.display.HTML object>"
      ]
     },
     "metadata": {},
     "output_type": "display_data"
    },
    {
     "data": {
      "text/html": [
       "\n",
       "                    <br/>Synced <strong style=\"color:#cdcd00\">trim-waterfall-2</strong>: <a href=\"https://wandb.ai/minkyu12/fast_campus_deep_learning%28Pytorch%29/runs/2rx7mjtg\" target=\"_blank\">https://wandb.ai/minkyu12/fast_campus_deep_learning%28Pytorch%29/runs/2rx7mjtg</a><br/>\n",
       "                "
      ],
      "text/plain": [
       "<IPython.core.display.HTML object>"
      ]
     },
     "metadata": {},
     "output_type": "display_data"
    },
    {
     "data": {
      "text/html": [
       "...Successfully finished last run (ID:2rx7mjtg). Initializing new run:<br/><br/>"
      ],
      "text/plain": [
       "<IPython.core.display.HTML object>"
      ]
     },
     "metadata": {},
     "output_type": "display_data"
    },
    {
     "data": {
      "text/html": [
       "\n",
       "                Tracking run with wandb version 0.12.2<br/>\n",
       "                Syncing run <strong style=\"color:#cdcd00\">sleek-eon-3</strong> to <a href=\"https://wandb.ai\" target=\"_blank\">Weights & Biases</a> <a href=\"https://docs.wandb.com/integrations/jupyter.html\" target=\"_blank\">(Documentation)</a>.<br/>\n",
       "                Project page: <a href=\"https://wandb.ai/minkyu12/fast_campus_deep_learning%28Pytorch%29\" target=\"_blank\">https://wandb.ai/minkyu12/fast_campus_deep_learning%28Pytorch%29</a><br/>\n",
       "                Run page: <a href=\"https://wandb.ai/minkyu12/fast_campus_deep_learning%28Pytorch%29/runs/u3abg57s\" target=\"_blank\">https://wandb.ai/minkyu12/fast_campus_deep_learning%28Pytorch%29/runs/u3abg57s</a><br/>\n",
       "                Run data is saved locally in <code>/Users/minkyujeon/Documents/Fast_Campus/Fast_campus_강의자료/강의자료-code/Chapter2/wandb/run-20210920_231901-u3abg57s</code><br/><br/>\n",
       "            "
      ],
      "text/plain": [
       "<IPython.core.display.HTML object>"
      ]
     },
     "metadata": {},
     "output_type": "display_data"
    }
   ],
   "source": [
    "wandb.init(project='fast_campus_deep_learning(Pytorch)')\n",
    "wandb.config.update(args)"
   ]
  },
  {
   "cell_type": "code",
   "execution_count": 62,
   "metadata": {},
   "outputs": [],
   "source": [
    "# Data loader\n",
    "train_loader = DataLoader(train_data, batch_size=args['batch_size'], shuffle=True)\n",
    "test_loader = DataLoader(test_data, batch_size=args['batch_size'], shuffle=False)"
   ]
  },
  {
   "cell_type": "code",
   "execution_count": 63,
   "metadata": {},
   "outputs": [],
   "source": [
    "class Model(nn.Module):\n",
    "    def __init__(self, input_size, hidden_size, num_classes):\n",
    "        super(Model, self).__init__()\n",
    "        self.mlp1 = nn.Linear(input_size, hidden_size) \n",
    "        self.relu = nn.ReLU()\n",
    "        self.mlp2 = nn.Linear(hidden_size, num_classes)  \n",
    "        \n",
    "    def forward(self, x):\n",
    "        out = self.mlp1(x)\n",
    "        out = self.relu(out)\n",
    "        out = self.mlp2(out)\n",
    "        \n",
    "        return out\n",
    "\n",
    "device = torch.device('cuda' if torch.cuda.is_available() else 'cpu')\n",
    "model = Model(input_size=28*28*1, hidden_size=args['hidden_size'], num_classes=args['num_classes']).to(device)"
   ]
  },
  {
   "cell_type": "code",
   "execution_count": 66,
   "metadata": {},
   "outputs": [
    {
     "data": {
      "text/plain": [
       "[]"
      ]
     },
     "execution_count": 66,
     "metadata": {},
     "output_type": "execute_result"
    }
   ],
   "source": [
    "CELoss = nn.CrossEntropyLoss()\n",
    "adam_optimizer = torch.optim.Adam(model.parameters(), lr=args['learning_rate']) # 최적화 알고리즘 class 선언\n",
    "wandb.watch(model)"
   ]
  },
  {
   "cell_type": "code",
   "execution_count": 67,
   "metadata": {},
   "outputs": [],
   "source": [
    "def test_model():\n",
    "\n",
    "    with torch.no_grad():\n",
    "        correct = 0\n",
    "        total = 0\n",
    "\n",
    "        for i, (images, labels) in enumerate(test_loader):\n",
    "            print('i:',i)\n",
    "            images_flatten = images.reshape(-1, 28*28*1).to(device)\n",
    "            labels = labels.to(device)\n",
    "\n",
    "            outputs = model(images_flatten)\n",
    "            _ , predicted = torch.max(outputs.data, 1)\n",
    "            total += labels.size(0)\n",
    "            correct += (predicted == labels).sum().item()\n",
    "\n",
    "            log_dict={\"test accuracy\":correct/total}\n",
    "            wandb.log(log_dict)"
   ]
  },
  {
   "cell_type": "code",
   "execution_count": 68,
   "metadata": {},
   "outputs": [
    {
     "name": "stdout",
     "output_type": "stream",
     "text": [
      "Epoch [1/3], Loss: 0.1965\n",
      "Epoch [2/3], Loss: 0.0748\n",
      "Epoch [3/3], Loss: 0.0145\n"
     ]
    }
   ],
   "source": [
    "train_model(args)"
   ]
  },
  {
   "cell_type": "code",
   "execution_count": 71,
   "metadata": {},
   "outputs": [],
   "source": [
    "def test_model():\n",
    "    # 학습이 끝난 후 모델 성능 테스트\n",
    "    # test에서는 back propagation 작업을 하지 않으므로 gradient를 계산하지 않도록 함 - 메모리의 효율성을 위해\n",
    "    \n",
    "    images_ex = []\n",
    "    with torch.no_grad(): # gradient 계산하지 않도록 하는 코드\n",
    "        correct = 0\n",
    "        total = 0\n",
    "        for i, (images, labels) in enumerate(test_loader):\n",
    "            images_flatten = images.reshape(-1, 28*28).to(device)\n",
    "            labels = labels.to(device)\n",
    "            outputs = model(images_flatten)\n",
    "            _, predicted = torch.max(outputs.data, 1)\n",
    "            total += labels.size(0)\n",
    "            correct += (predicted == labels).sum().item()\n",
    "\n",
    "            if (i+1)%10 == 0: # 10번 iteration을 돌 때 마다\n",
    "                images_ex.append(wandb.Image(\n",
    "                    images[0], caption=\"predicted: {} label: {}\".format(predicted[0].item(), labels[0])))\n",
    "                log_dict={\"test accuracy\":correct/total}\n",
    "                wandb.log(log_dict)\n",
    "                \n",
    "        print('Accuracy of the network on the 10000 test images: {} %'.format(100 * correct / total))"
   ]
  },
  {
   "cell_type": "code",
   "execution_count": 72,
   "metadata": {},
   "outputs": [
    {
     "name": "stdout",
     "output_type": "stream",
     "text": [
      "Accuracy of the network on the 10000 test images: 96.95 %\n"
     ]
    }
   ],
   "source": [
    "test_model()"
   ]
  },
  {
   "cell_type": "code",
   "execution_count": null,
   "metadata": {},
   "outputs": [],
   "source": []
  }
 ],
 "metadata": {
  "kernelspec": {
   "display_name": "minkyu",
   "language": "python",
   "name": "minkyu"
  },
  "language_info": {
   "codemirror_mode": {
    "name": "ipython",
    "version": 3
   },
   "file_extension": ".py",
   "mimetype": "text/x-python",
   "name": "python",
   "nbconvert_exporter": "python",
   "pygments_lexer": "ipython3",
   "version": "3.8.11"
  }
 },
 "nbformat": 4,
 "nbformat_minor": 4
}
