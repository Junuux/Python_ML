{
 "cells": [
  {
   "cell_type": "code",
   "execution_count": 1,
   "metadata": {},
   "outputs": [],
   "source": [
    "import tensorflow as tf\n",
    "from tensorflow import keras\n",
    "from tensorflow.keras import Model, layers, optimizers, datasets\n",
    "import numpy as np"
   ]
  },
  {
   "cell_type": "markdown",
   "metadata": {},
   "source": [
    "### Data Augmentation\n",
    "Data를 load할 때 다양한 augmentation 적용"
   ]
  },
  {
   "cell_type": "code",
   "execution_count": 2,
   "metadata": {},
   "outputs": [
    {
     "name": "stdout",
     "output_type": "stream",
     "text": [
      "----------------train----------------\n",
      "images: (60000, 28, 28) 0 255\n",
      "labels: (60000,)\n",
      "normalized images: (60000, 28, 28, 1) 0.0 1.0\n",
      "----------------test----------------\n",
      "images: (10000, 28, 28) 0 255\n",
      "labels: (10000,)\n",
      "normalized images: (10000, 28, 28, 1) 0.0 1.0\n"
     ]
    }
   ],
   "source": [
    "(images_train,labels_train), (images_test,labels_test) = datasets.mnist.load_data()\n",
    "print('----------------train----------------')\n",
    "print('images:',images_train.shape, images_train.min(), images_train.max())\n",
    "print('labels:',labels_train.shape)\n",
    "images_train = images_train.reshape((60000,28,28,1))\n",
    "images_train = images_train.astype(\"float32\")/255\n",
    "print('normalized images:',images_train.shape, images_train.min(), images_train.max())\n",
    "\n",
    "print('----------------test----------------')\n",
    "print('images:',images_test.shape, images_test.min(), images_test.max())\n",
    "print('labels:',labels_test.shape)\n",
    "images_test = images_test.reshape((10000,28,28,1))\n",
    "images_test = images_test.astype(\"float32\")/255\n",
    "print('normalized images:',images_test.shape, images_test.min(), images_test.max())"
   ]
  },
  {
   "cell_type": "code",
   "execution_count": 22,
   "metadata": {},
   "outputs": [
    {
     "data": {
      "text/plain": [
       "{0, 1, 2, 3, 4, 5, 6, 7, 8, 9}"
      ]
     },
     "execution_count": 22,
     "metadata": {},
     "output_type": "execute_result"
    }
   ],
   "source": [
    "set(labels_train)"
   ]
  },
  {
   "cell_type": "code",
   "execution_count": 3,
   "metadata": {},
   "outputs": [],
   "source": [
    "import matplotlib.pyplot as plt\n",
    "from PIL import Image"
   ]
  },
  {
   "cell_type": "markdown",
   "metadata": {},
   "source": [
    "* Augmentation"
   ]
  },
  {
   "cell_type": "code",
   "execution_count": 4,
   "metadata": {},
   "outputs": [],
   "source": [
    "# 이미지 사이즈 28*28 -> 32*32 / 이미지 Scaling\n",
    "data_resize_scale = tf.keras.Sequential([\n",
    "    layers.experimental.preprocessing.Resizing(32, 32),\n",
    "    layers.experimental.preprocessing.Rescaling(1./255)\n",
    "])\n",
    "    \n",
    "data_augmentation = tf.keras.Sequential([\n",
    "    layers.experimental.preprocessing.RandomFlip(\"horizontal_and_vertical\"),\n",
    "    layers.experimental.preprocessing.RandomRotation(0.2),\n",
    "    layers.experimental.preprocessing.RandomContrast(0.5),\n",
    "    layers.experimental.preprocessing.Rescaling(1./255)\n",
    "])"
   ]
  },
  {
   "cell_type": "code",
   "execution_count": 5,
   "metadata": {},
   "outputs": [],
   "source": [
    "input_shape = (28, 28, 1)\n",
    "num_classes = 10\n",
    "model = tf.keras.models.Sequential([\n",
    "    data_augmentation,\n",
    "    tf.keras.layers.Conv2D(32, (3,3), padding='same', activation='relu', input_shape=input_shape),\n",
    "    tf.keras.layers.MaxPool2D(strides=(2,2)),\n",
    "\n",
    "    tf.keras.layers.Conv2D(64, (3,3), padding='same', activation='relu'),\n",
    "    tf.keras.layers.MaxPool2D(strides=(2,2)),\n",
    "    tf.keras.layers.Flatten(),\n",
    "    tf.keras.layers.Dense(128, activation='relu'),\n",
    "    tf.keras.layers.Dense(num_classes, activation='softmax')\n",
    "])\n",
    "\n",
    "model.compile(optimizer='adam', loss='sparse_categorical_crossentropy', metrics=['acc'])"
   ]
  },
  {
   "cell_type": "markdown",
   "metadata": {},
   "source": [
    "### Batch Size\n",
    "Batch Size : 128"
   ]
  },
  {
   "cell_type": "code",
   "execution_count": 25,
   "metadata": {},
   "outputs": [
    {
     "data": {
      "text/plain": [
       "(48000, 48128, 60000)"
      ]
     },
     "execution_count": 25,
     "metadata": {},
     "output_type": "execute_result"
    }
   ],
   "source": [
    "128 * 375, 256*188, len(images_train)"
   ]
  },
  {
   "cell_type": "code",
   "execution_count": 6,
   "metadata": {},
   "outputs": [
    {
     "name": "stdout",
     "output_type": "stream",
     "text": [
      "Epoch 1/3\n",
      "375/375 [==============================] - 86s 223ms/step - loss: 2.0600 - acc: 0.2457 - val_loss: 1.5512 - val_acc: 0.4852\n",
      "Epoch 2/3\n",
      "375/375 [==============================] - 78s 208ms/step - loss: 1.4886 - acc: 0.4738 - val_loss: 1.3138 - val_acc: 0.5174\n",
      "Epoch 3/3\n",
      "375/375 [==============================] - 78s 207ms/step - loss: 1.3347 - acc: 0.5261 - val_loss: 1.2029 - val_acc: 0.5691\n"
     ]
    }
   ],
   "source": [
    "model_train = model.fit(images_train, labels_train,\n",
    "                    batch_size=128,\n",
    "                    epochs=3,\n",
    "                    validation_split=0.2)"
   ]
  },
  {
   "cell_type": "markdown",
   "metadata": {},
   "source": [
    "Batch Size : 256"
   ]
  },
  {
   "cell_type": "code",
   "execution_count": 7,
   "metadata": {},
   "outputs": [
    {
     "name": "stdout",
     "output_type": "stream",
     "text": [
      "Epoch 1/3\n",
      "188/188 [==============================] - 56s 294ms/step - loss: 1.2629 - acc: 0.5550 - val_loss: 1.1737 - val_acc: 0.5829\n",
      "Epoch 2/3\n",
      "188/188 [==============================] - 69s 364ms/step - loss: 1.2328 - acc: 0.5671 - val_loss: 1.1401 - val_acc: 0.5980\n",
      "Epoch 3/3\n",
      "188/188 [==============================] - 64s 340ms/step - loss: 1.2049 - acc: 0.5789 - val_loss: 1.0929 - val_acc: 0.6181\n"
     ]
    }
   ],
   "source": [
    "model_train = model.fit(images_train, labels_train,\n",
    "                    batch_size=256,\n",
    "                    epochs=3,\n",
    "                    validation_split=0.2)"
   ]
  },
  {
   "cell_type": "markdown",
   "metadata": {},
   "source": [
    "### 다양한 모델 구조\n",
    "layer 수, kernel size, stride, padding"
   ]
  },
  {
   "cell_type": "code",
   "execution_count": 8,
   "metadata": {},
   "outputs": [],
   "source": [
    "input_shape = (28, 28, 1)\n",
    "num_classes = 10\n",
    "model = tf.keras.models.Sequential([\n",
    "    data_augmentation,\n",
    "    tf.keras.layers.Conv2D(32, (3,3), padding='same', activation='relu', input_shape=input_shape),\n",
    "    tf.keras.layers.MaxPool2D(strides=(2,2)),\n",
    "\n",
    "    tf.keras.layers.Conv2D(64, (3,3), padding='same', activation='relu'),\n",
    "    tf.keras.layers.MaxPool2D(strides=(2,2)),\n",
    "    tf.keras.layers.Flatten(),\n",
    "    tf.keras.layers.Dense(128, activation='relu'),\n",
    "    tf.keras.layers.Dense(num_classes, activation='softmax')\n",
    "])\n",
    "\n",
    "model.compile(optimizer='adam', loss='sparse_categorical_crossentropy', metrics=['acc'])"
   ]
  },
  {
   "cell_type": "markdown",
   "metadata": {},
   "source": [
    "### Activation"
   ]
  },
  {
   "cell_type": "markdown",
   "metadata": {},
   "source": [
    "- 각 layer마다 activation=''으로 넣어도 됨\n",
    "- tf.keras.layers.Activation('')으로 넣어도 됨\n",
    "- 어느 방식으로 해도 된다"
   ]
  },
  {
   "cell_type": "code",
   "execution_count": 9,
   "metadata": {},
   "outputs": [],
   "source": [
    "input_shape = (28, 28, 1)\n",
    "num_classes = 10\n",
    "model = tf.keras.models.Sequential([\n",
    "    data_augmentation,\n",
    "    tf.keras.layers.Conv2D(32, (3,3), padding='same', activation='sigmoid', input_shape=input_shape), # sigmoid\n",
    "    tf.keras.layers.MaxPool2D(strides=(2,2)),\n",
    "\n",
    "    tf.keras.layers.Conv2D(64, (3,3), padding='same', activation=tf.nn.leaky_relu),\n",
    "#     tf.keras.layers.LeakyReLU(), # leaky relu\n",
    "    tf.keras.layers.MaxPool2D(strides=(2,2)),\n",
    "    tf.keras.layers.Flatten(),\n",
    "    tf.keras.layers.Dense(128),\n",
    "    tf.keras.layers.Activation('tanh'), # tanh\n",
    "    tf.keras.layers.Dense(num_classes, activation='softmax')\n",
    "])\n",
    "\n",
    "model.compile(optimizer='adam', loss='sparse_categorical_crossentropy', metrics=['acc'])"
   ]
  },
  {
   "cell_type": "markdown",
   "metadata": {},
   "source": [
    "### Dropout / Batch Normalization"
   ]
  },
  {
   "cell_type": "code",
   "execution_count": 10,
   "metadata": {},
   "outputs": [],
   "source": [
    "input_shape = (28, 28, 1)\n",
    "num_classes = 10\n",
    "model = tf.keras.models.Sequential([\n",
    "    data_augmentation,\n",
    "    tf.keras.layers.Conv2D(32, (3,3), padding='same', input_shape=input_shape),\n",
    "    tf.keras.layers.Dropout(rate=0.2), # Drop Out\n",
    "    tf.keras.layers.Activation('relu'),\n",
    "    tf.keras.layers.MaxPool2D(strides=(2,2)),\n",
    "\n",
    "    tf.keras.layers.Conv2D(64, (3,3), padding='same'),\n",
    "    tf.keras.layers.BatchNormalization(), # Batch Normalization\n",
    "    tf.keras.layers.Activation('relu'),\n",
    "    tf.keras.layers.MaxPool2D(strides=(2,2)),\n",
    "    \n",
    "    tf.keras.layers.Flatten(),\n",
    "    tf.keras.layers.Dense(128, activation='tanh'),\n",
    "    tf.keras.layers.Dense(num_classes, activation='softmax')\n",
    "])\n",
    "\n",
    "model.compile(optimizer='adam', loss='sparse_categorical_crossentropy', metrics=['acc'])"
   ]
  },
  {
   "cell_type": "markdown",
   "metadata": {},
   "source": [
    "### Loss Function"
   ]
  },
  {
   "cell_type": "markdown",
   "metadata": {},
   "source": [
    "Categorical Cross Entropy\n",
    "- label이 one-hot 형태이길 기대함"
   ]
  },
  {
   "cell_type": "code",
   "execution_count": 11,
   "metadata": {},
   "outputs": [],
   "source": [
    "model.compile(optimizer='adam', loss='categorical_crossentropy', metrics=['acc'])"
   ]
  },
  {
   "cell_type": "code",
   "execution_count": 12,
   "metadata": {},
   "outputs": [],
   "source": [
    "model.compile(optimizer='adam', loss=tf.keras.losses.CategoricalCrossentropy(), metrics=['acc'])"
   ]
  },
  {
   "cell_type": "markdown",
   "metadata": {},
   "source": [
    "Sparse Categorical CrossEntropy\n",
    "- label이 int 형태이길 기대함"
   ]
  },
  {
   "cell_type": "code",
   "execution_count": 13,
   "metadata": {},
   "outputs": [],
   "source": [
    "model.compile(optimizer='adam', loss='sparse_categorical_crossentropy', metrics=['acc'])"
   ]
  },
  {
   "cell_type": "code",
   "execution_count": 14,
   "metadata": {},
   "outputs": [],
   "source": [
    "model.compile(optimizer='adam', loss=tf.keras.losses.SparseCategoricalCrossentropy, metrics=['acc'])"
   ]
  },
  {
   "cell_type": "markdown",
   "metadata": {},
   "source": [
    "MSE"
   ]
  },
  {
   "cell_type": "code",
   "execution_count": 15,
   "metadata": {},
   "outputs": [],
   "source": [
    "model.compile(optimizer='adam', loss='mse', metrics=['acc'])"
   ]
  },
  {
   "cell_type": "code",
   "execution_count": 16,
   "metadata": {},
   "outputs": [],
   "source": [
    "model.compile(optimizer='adam', loss=tf.keras.losses.MeanSquaredError(), metrics=['acc'])"
   ]
  },
  {
   "cell_type": "markdown",
   "metadata": {},
   "source": [
    "MAE"
   ]
  },
  {
   "cell_type": "code",
   "execution_count": 17,
   "metadata": {},
   "outputs": [],
   "source": [
    "model.compile(optimizer='adam', loss='MAE', metrics=['acc'])"
   ]
  },
  {
   "cell_type": "code",
   "execution_count": 18,
   "metadata": {},
   "outputs": [],
   "source": [
    "model.compile(optimizer='adam', loss=tf.keras.losses.MeanAbsoluteError(), metrics=['acc'])"
   ]
  },
  {
   "cell_type": "markdown",
   "metadata": {},
   "source": [
    "### Optimization"
   ]
  },
  {
   "cell_type": "code",
   "execution_count": 19,
   "metadata": {},
   "outputs": [],
   "source": [
    "# Stochastic Gradient Descent\n",
    "optimizer = tf.keras.optimizers.SGD(learning_rate=0.1)\n",
    "\n",
    "# Stochastic Gradient Descent with momentum\n",
    "optimizer = tf.keras.optimizers.SGD(learning_rate=0.1, momentum=0.9)\n",
    "\n",
    "# Adagrad\n",
    "optimizer = tf.keras.optimizers.Adagrad(learning_rate=0.001)\n",
    "\n",
    "# RMSProp\n",
    "optimizer = tf.keras.optimizers.RMSprop(learning_rate=0.001)\n",
    "\n",
    "# Adam\n",
    "optimizer = tf.keras.optimizers.Adam(learning_rate=0.001)"
   ]
  }
 ],
 "metadata": {
  "interpreter": {
   "hash": "f2e2bce360819f88e39cac25630043f28fab3036cf9216375971b4d97393a103"
  },
  "kernelspec": {
   "display_name": "Python 3.8.5 64-bit",
   "language": "python",
   "name": "python3"
  },
  "language_info": {
   "codemirror_mode": {
    "name": "ipython",
    "version": 3
   },
   "file_extension": ".py",
   "mimetype": "text/x-python",
   "name": "python",
   "nbconvert_exporter": "python",
   "pygments_lexer": "ipython3",
   "version": "3.8.5"
  }
 },
 "nbformat": 4,
 "nbformat_minor": 4
}
