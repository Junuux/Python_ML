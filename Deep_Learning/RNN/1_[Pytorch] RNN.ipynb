{
 "cells": [
  {
   "cell_type": "markdown",
   "metadata": {},
   "source": [
    "# RNN"
   ]
  },
  {
   "cell_type": "markdown",
   "metadata": {},
   "source": [
    "### Time Series"
   ]
  },
  {
   "cell_type": "markdown",
   "metadata": {},
   "source": [
    "* 일정 시간 간격으로 배치된 데이터들의 수열\n",
    "* 과거 데이터가 현재/미래에 영향을 미침 => 시계열 데이터를 보고 앞으로 일어날 일을 예측\n",
    "* 시간을 고려함\n",
    "* 주가 예측, 날씨 예측, 자연어 처리, 비디오 다음 frame 예측 등"
   ]
  },
  {
   "cell_type": "markdown",
   "metadata": {},
   "source": [
    "### Sequence Model"
   ]
  },
  {
   "cell_type": "markdown",
   "metadata": {},
   "source": [
    "* 모델의 입력이나 출력이 Sequence Data인 상황을 다루는 모델\n",
    "  * sequential data : 텍스트 스트림, 시계열 데이터 등 => 음성 인식, 감정 분석 등\n",
    "  * <img src=\"../../Images/Deep_Learning/RNN_1.JPG\" width=\"600\" height=\"300\" title=\"\"/>\n",
    "  * <img src=\"../../Images/Deep_Learning/RNN_2.JPG\" width=\"600\" height=\"250\" title=\"\"/>"
   ]
  },
  {
   "cell_type": "markdown",
   "metadata": {},
   "source": [
    "### RNN"
   ]
  },
  {
   "cell_type": "markdown",
   "metadata": {},
   "source": [
    "* <img src=\"../../Images/Deep_Learning/RNN_3.JPG\" width=\"600\" height=\"250\" title=\"\"/>\n",
    "* 일반 Neural Network vs RNN\n",
    "  * <img src=\"../../Images/Deep_Learning/RNN_4.JPG\" width=\"600\" height=\"250\" title=\"\"/>\n",
    "  * 이전 hidden layer의 w, input과의 w, output과 관련된 w => t-1시점의 데이터 사용\n",
    "* RNN 예시\n",
    "  * 첫 y를 보면 3번째 값이 가장 크므로 l이 나올 가능성이 높으므로 loss 발생\n",
    "  * <img src=\"../../Images/Deep_Learning/RNN_5.JPG\" width=\"600\" height=\"250\" title=\"\"/>\n",
    "* BPTT\n",
    "  * 역전파 수행 => 이전 데이터를 사용하기 때문\n",
    "  * <img src=\"../../Images/Deep_Learning/RNN_6.JPG\" width=\"600\" height=\"250\" title=\"\"/>\n",
    "\n",
    "* RNN 단점\n",
    "  * 아래와 같은 단점으로 잘 사용되지 않음 => LSTM을 주로 사용\n",
    "  * <img src=\"../../Images/Deep_Learning/RNN_7.JPG\" width=\"600\" height=\"250\" title=\"\"/>"
   ]
  },
  {
   "cell_type": "markdown",
   "metadata": {},
   "source": [
    "# LSTM"
   ]
  },
  {
   "cell_type": "markdown",
   "metadata": {},
   "source": [
    "### LSTM : Long Short Term Memory Network"
   ]
  },
  {
   "cell_type": "markdown",
   "metadata": {},
   "source": [
    "* 기본 RNN 구조\n",
    "  * <img src=\"../../Images/Deep_Learning/RNN_8.JPG\" width=\"600\" height=\"250\" title=\"\"/>\n",
    "* LSTM 구조\n",
    "  * <img src=\"../../Images/Deep_Learning/RNN_9.JPG\" width=\"600\" height=\"300\" title=\"\"/>\n",
    "  * 시그마(시그모이드)를 거쳐 이전의 스테이트가 곱해짐\n",
    "  * 아래 : 히든 스테이트, 위 : 셀 스테이트\n",
    "  * Forget Gate : 얼마나 정보를 잃을지 / Input Gate : 얼마나 정보를 받을지 / Output Gate : 얼마나 정보를 내보낼지 "
   ]
  },
  {
   "cell_type": "markdown",
   "metadata": {},
   "source": [
    "* `Cell State`\n",
    "  * <img src=\"../../Images/Deep_Learning/RNN_10.JPG\" width=\"600\" height=\"300\" title=\"\"/>\n",
    "  * 멀리 있는 정보도 잘 흐르게 하기 위함 => LSTM 핵심 아이디어\n",
    "\n",
    "* Forget Gate\n",
    "  * <img src=\"../../Images/Deep_Learning/RNN_11.JPG\" width=\"600\" height=\"300\" title=\"\"/>\n",
    "  * 과거 정보를 얼마나 버릴지 => 0에 가까울수록 많이 잃음\n",
    "\n",
    "* Input Gate\n",
    "  * <img src=\"../../Images/Deep_Learning/RNN_12.JPG\" width=\"600\" height=\"300\" title=\"\"/>\n",
    "  * 현재 정보를 얼마나 받을지 => $i_t$\n",
    "  * 1에 가까울수록 얼마나 더 기억할 것인가의 확률\n",
    "\n",
    "* Cell State Update\n",
    "  * <img src=\"../../Images/Deep_Learning/RNN_13.JPG\" width=\"600\" height=\"300\" title=\"\"/>\n",
    "\n",
    "* Output Gate\n",
    "  * <img src=\"../../Images/Deep_Learning/RNN_14.JPG\" width=\"600\" height=\"300\" title=\"\"/>\n",
    "  * 다음 state에 보낼 hidden state\n"
   ]
  },
  {
   "cell_type": "code",
   "execution_count": 1,
   "metadata": {},
   "outputs": [],
   "source": [
    "import torch\n",
    "import torch.nn as nn\n",
    "import torchvision\n",
    "from torchvision import datasets, transforms\n",
    "from torch.utils.data import DataLoader"
   ]
  },
  {
   "cell_type": "markdown",
   "metadata": {},
   "source": [
    "-  Data : [1,2,3,4,5,6,7,8,9,10,11,12]\n",
    "- sequence length 3이며 batch size 4인 데이터로 나눔\n",
    "- [[1,2,3],\n",
    "   [4,5,6],\n",
    "   [7,8,9],\n",
    "   [10,11,12]]"
   ]
  },
  {
   "cell_type": "code",
   "execution_count": 2,
   "metadata": {},
   "outputs": [],
   "source": [
    "inputs = torch.Tensor([1,2,3,4,5,6,7,8,9,10,11,12])"
   ]
  },
  {
   "cell_type": "code",
   "execution_count": 3,
   "metadata": {},
   "outputs": [],
   "source": [
    "input_size = 1\n",
    "seq_length = 3\n",
    "hidden_size = 2\n",
    "num_layers = 2\n",
    "batch_size = 4"
   ]
  },
  {
   "cell_type": "markdown",
   "metadata": {},
   "source": [
    "### nn.RNN Basic"
   ]
  },
  {
   "cell_type": "markdown",
   "metadata": {},
   "source": [
    "- input_size: Input의 사이즈에 해당 하는 수를 입력하면 됩니다.\n",
    "- hidden_size: 은닉층의 사이즈에 해당 하는 수를 입력하면 됩니다.\n",
    "- num_layers: RNN의 은닉층 레이어 갯수를 나타냅니다. 기본 값은 1입니다.\n",
    "- bias: 바이어스 값 활성화 여부를 선택합니다. 기본 값은 True 입니다.\n",
    "- batch_first: True일 시, Output 값의 사이즈는 (batch, seq, feature) 가 됩니다. 기본 값은 False 입니다.\n",
    "- dropout: 드롭아웃 비율을 설정 합니다. 기본 값은 0입니다.\n",
    "- bidirectional: True일 시, 양방향 RNN이 됩니다. 기본 값은 False 입니다."
   ]
  },
  {
   "cell_type": "markdown",
   "metadata": {},
   "source": [
    "Input : input과 hidden_0 이라는 2개의 input을 받음\n",
    "- input : neural network로 들어가는 sequence input => [seq_length, batch size, input size]\n",
    "- hidden_0 : network의 초기 hidden state => [num layers*num directions, batch size, input size] \n",
    "    - num directions : 방향(앞->뒤, 뒤->앞), Bidirectional RNN일 경우 2(좌우 방향 모두 고려), 나머지 1\n",
    "    - hidden_0은 따로 초기화 하지 않으면 Pytorch에 의해 자동으로 모두 0으로 초기화 됨"
   ]
  },
  {
   "cell_type": "markdown",
   "metadata": {},
   "source": [
    "Output : out과 hidden이라는 2개의 출력을 냄\n",
    "- out : 마지막 RNN layer로부터 매 timesteps마다의 output\n",
    "- h_n : 모든 RNN layer로부터 마지막 timestep의 hidden value\n",
    "    - (num_layers* num_directions, batch, hidden_size)"
   ]
  },
  {
   "cell_type": "code",
   "execution_count": 4,
   "metadata": {},
   "outputs": [],
   "source": [
    "rnn = nn.RNN(input_size=input_size, hidden_size=hidden_size, num_layers=num_layers, batch_first=True)\n",
    "# batch_first = True이면 (seq, batch, feature) -> (batch, seq, feature)로 바뀜"
   ]
  },
  {
   "cell_type": "code",
   "execution_count": 5,
   "metadata": {},
   "outputs": [
    {
     "name": "stdout",
     "output_type": "stream",
     "text": [
      "inputs before : torch.Size([12])\n",
      "----------------------------------------\n",
      "inputs after : torch.Size([4, 3, 1])\n"
     ]
    }
   ],
   "source": [
    "# Input\n",
    "# hidden_0 : 따로 안해서 0으로 초기화\n",
    "\n",
    "print('inputs before :',inputs.shape)\n",
    "inputs = inputs.view(batch_size, seq_length, input_size)\n",
    "print('-'*40)\n",
    "print('inputs after :',inputs.shape) # [batch size, seq length, input size] => RNN의 input"
   ]
  },
  {
   "cell_type": "code",
   "execution_count": 6,
   "metadata": {},
   "outputs": [
    {
     "name": "stdout",
     "output_type": "stream",
     "text": [
      "out: torch.Size([4, 3, 2])\n",
      "hidden: torch.Size([2, 4, 2])\n"
     ]
    }
   ],
   "source": [
    "# Output\n",
    "\n",
    "out, hidden = rnn(inputs)\n",
    "print('out:',out.shape) # [batch size, seq length, num_directions*hidden size]\n",
    "print('hidden:',hidden.shape) # [num layers*num directions, batch size, hidden size]"
   ]
  },
  {
   "cell_type": "markdown",
   "metadata": {},
   "source": [
    "### Bi-directional RNN"
   ]
  },
  {
   "cell_type": "markdown",
   "metadata": {},
   "source": [
    "- 시간 순, 시간 역행 순 모두 RNN 적용"
   ]
  },
  {
   "cell_type": "code",
   "execution_count": 7,
   "metadata": {},
   "outputs": [],
   "source": [
    "rnn = nn.RNN(input_size=input_size, hidden_size=hidden_size, num_layers=num_layers, batch_first=True, bidirectional=True)"
   ]
  },
  {
   "cell_type": "code",
   "execution_count": 8,
   "metadata": {},
   "outputs": [
    {
     "name": "stdout",
     "output_type": "stream",
     "text": [
      "inputs : torch.Size([4, 3, 1])\n"
     ]
    }
   ],
   "source": [
    "# Input\n",
    "\n",
    "print('inputs :',inputs.shape) # [batch size, seq length, input size]"
   ]
  },
  {
   "cell_type": "code",
   "execution_count": 9,
   "metadata": {},
   "outputs": [
    {
     "name": "stdout",
     "output_type": "stream",
     "text": [
      "out: torch.Size([4, 3, 4])\n",
      "hidden: torch.Size([4, 4, 2])\n"
     ]
    }
   ],
   "source": [
    "# Output\n",
    "# out : 마지막 RNN layer로부터 매 timesteps마다의 output\n",
    "# h_n : 모든 RNN layer로부터 마지막 timestep의 hidden value (num_layers* num_directions, batch, hidden_size)\n",
    "\n",
    "out, hidden = rnn(inputs)\n",
    "print('out:',out.shape) # [batch size, seq length, num_directions*hidden size]\n",
    "print('hidden:',hidden.shape) # [num layers*num directions, batch size, hidden size]"
   ]
  },
  {
   "cell_type": "markdown",
   "metadata": {},
   "source": [
    "### Bi-directional RNN 방향 분리"
   ]
  },
  {
   "cell_type": "markdown",
   "metadata": {},
   "source": [
    "out"
   ]
  },
  {
   "cell_type": "code",
   "execution_count": 10,
   "metadata": {},
   "outputs": [
    {
     "name": "stdout",
     "output_type": "stream",
     "text": [
      "out before: torch.Size([4, 3, 4])\n",
      "----------------------------------------\n",
      "out after: torch.Size([4, 3, 2, 2])\n"
     ]
    }
   ],
   "source": [
    "print('out before:',out.shape)\n",
    "out = out.view(batch_size, seq_length, 2, hidden_size) # 2: 방향이 앞, 뒤로 나눠짐\n",
    "print('-'*40)\n",
    "print('out after:',out.shape)"
   ]
  },
  {
   "cell_type": "markdown",
   "metadata": {},
   "source": [
    "* 방향에 따라서만 분리"
   ]
  },
  {
   "cell_type": "code",
   "execution_count": 11,
   "metadata": {},
   "outputs": [
    {
     "name": "stdout",
     "output_type": "stream",
     "text": [
      "out_direc1: torch.Size([4, 3, 2])\n",
      "out_direc2: torch.Size([4, 3, 2])\n"
     ]
    }
   ],
   "source": [
    "out_direc1 = out[:,:,0,:]\n",
    "print('out_direc1:',out_direc1.shape)\n",
    "out_direc2 = out[:,:,1,:]\n",
    "print('out_direc2:',out_direc2.shape)"
   ]
  },
  {
   "cell_type": "markdown",
   "metadata": {},
   "source": [
    "h_n"
   ]
  },
  {
   "cell_type": "code",
   "execution_count": 12,
   "metadata": {},
   "outputs": [
    {
     "name": "stdout",
     "output_type": "stream",
     "text": [
      "hidden before: torch.Size([4, 4, 2])\n",
      "----------------------------------------\n",
      "hidden after: torch.Size([2, 2, 4, 2])\n"
     ]
    }
   ],
   "source": [
    "print('hidden before:', hidden.shape) # 4 = num_layers * num_directions\n",
    "hidden = hidden.view(num_layers, 2, batch_size, hidden_size) # 2: directions 수\n",
    "print('-'*40)\n",
    "print('hidden after:', hidden.shape)"
   ]
  },
  {
   "cell_type": "code",
   "execution_count": 13,
   "metadata": {},
   "outputs": [
    {
     "name": "stdout",
     "output_type": "stream",
     "text": [
      "h_n_direc1: torch.Size([2, 4, 2])\n",
      "hidden_direc2: torch.Size([2, 4, 2])\n"
     ]
    }
   ],
   "source": [
    "hidden_direc1 = hidden[:,0,:,:]\n",
    "print('h_n_direc1:',hidden_direc1.shape)\n",
    "hidden_direc2 = hidden[:,1,:,:]\n",
    "print('hidden_direc2:',hidden_direc2.shape)"
   ]
  },
  {
   "cell_type": "markdown",
   "metadata": {},
   "source": [
    "### RNN application"
   ]
  },
  {
   "cell_type": "code",
   "execution_count": 14,
   "metadata": {},
   "outputs": [],
   "source": [
    "import torch\n",
    "import torch.nn as nn\n",
    "import torchvision\n",
    "from torchvision import datasets, transforms\n",
    "from torch.utils.data import DataLoader\n",
    "\n",
    "# MNIST 데이터셋 \n",
    "train_data = datasets.MNIST(\n",
    "    root=\"../data\",\n",
    "    train=True,\n",
    "    download=True,\n",
    "    transform=transforms.ToTensor(),\n",
    ")\n",
    "\n",
    "test_data = datasets.MNIST(\n",
    "    root=\"../data\",\n",
    "    train=False,\n",
    "    download=True,\n",
    "    transform=transforms.ToTensor(),\n",
    ")\n",
    "\n",
    "# Data loader\n",
    "train_loader = DataLoader(train_data, batch_size=128, shuffle=True)\n",
    "test_loader = DataLoader(test_data, batch_size=128, shuffle=False)"
   ]
  },
  {
   "cell_type": "code",
   "execution_count": 15,
   "metadata": {},
   "outputs": [],
   "source": [
    "# RNN - many to one\n",
    "class RNN(nn.Module):\n",
    "    def __init__(self, num_classes):\n",
    "        super(RNN, self).__init__()\n",
    "        self.input_size = 28\n",
    "        self.hidden_size = 128\n",
    "        self.num_layers = 2\n",
    "        self.RNN = nn.RNN(input_size=self.input_size, hidden_size=self.hidden_size, num_layers=self.num_layers, batch_first=True)\n",
    "        # batch_first = True이면 (seq, batch, feature) -> (batch, seq, feature)로 바뀜\n",
    "        self.fc = nn.Linear(self.hidden_size, num_classes)\n",
    "    \n",
    "    def forward(self, x):\n",
    "        out, _ = self.RNN(x)  # out: [mini-batch, seq_length, hidden_size]\n",
    "        out = self.fc(out[:, -1, :]) # out을 fc에 넣기\n",
    "        return out\n",
    "\n",
    "device = torch.device('cuda' if torch.cuda.is_available() else 'cpu')\n",
    "model = RNN(num_classes=10).to(device)"
   ]
  },
  {
   "cell_type": "code",
   "execution_count": 16,
   "metadata": {},
   "outputs": [],
   "source": [
    "# Loss and optimizer\n",
    "CELoss = nn.CrossEntropyLoss()\n",
    "adam_optimizer = torch.optim.Adam(model.parameters(), lr=0.001)"
   ]
  },
  {
   "cell_type": "code",
   "execution_count": 17,
   "metadata": {},
   "outputs": [
    {
     "name": "stdout",
     "output_type": "stream",
     "text": [
      "number of iteration : 469\n",
      "Epoch [1/3], Loss: 0.3272\n",
      "Epoch [2/3], Loss: 0.2689\n",
      "Epoch [3/3], Loss: 0.2316\n"
     ]
    }
   ],
   "source": [
    "# Train the model\n",
    "total_epochs = 3\n",
    "sequence_length = 28\n",
    "input_size = 28\n",
    "\n",
    "print('number of iteration :', len(train_loader))\n",
    "\n",
    "total_step = len(train_loader)\n",
    "for epoch in range(total_epochs):\n",
    "    for i, (images, labels) in enumerate(train_loader):\n",
    "        images = images.reshape(-1, sequence_length, input_size).to(device)\n",
    "        labels = labels.to(device)\n",
    "        \n",
    "        # Forward pass\n",
    "        outputs = model(images)\n",
    "        loss = CELoss(outputs, labels)\n",
    "        \n",
    "        # Backward and optimize\n",
    "        adam_optimizer.zero_grad()\n",
    "        loss.backward()\n",
    "        adam_optimizer.step()\n",
    "        \n",
    "    print ('Epoch [{}/{}], Loss: {:.4f}'.format(epoch+1, total_epochs, loss.item()))"
   ]
  },
  {
   "cell_type": "code",
   "execution_count": 18,
   "metadata": {},
   "outputs": [
    {
     "name": "stdout",
     "output_type": "stream",
     "text": [
      "Test Accuracy of the model on the 10000 test images: 95.04 %\n"
     ]
    }
   ],
   "source": [
    "# 학습이 끝난 후 모델 성능 테스트\n",
    "# test에서는 back propagation 작업을 하지 않으므로 gradient를 계산하지 않도록 함 - 메모리의 효율성을 위해\n",
    "\n",
    "model.eval()\n",
    "with torch.no_grad():\n",
    "    correct = 0\n",
    "    total = 0\n",
    "    for images, labels in test_loader:\n",
    "        images = images.reshape(-1, sequence_length, input_size).to(device)\n",
    "        labels = labels.to(device)\n",
    "        outputs = model(images)\n",
    "        _, predicted = torch.max(outputs.data, 1)\n",
    "        total += labels.size(0)\n",
    "        correct += (predicted == labels).sum().item()\n",
    "\n",
    "    print('Test Accuracy of the model on the 10000 test images: {} %'.format(100 * correct / total)) "
   ]
  },
  {
   "cell_type": "code",
   "execution_count": 19,
   "metadata": {},
   "outputs": [],
   "source": [
    "# 학습한 모델을 model_RNN.ckpt라는 이름으로 저장\n",
    "torch.save(model.state_dict(), 'model_RNN.ckpt')"
   ]
  },
  {
   "cell_type": "markdown",
   "metadata": {},
   "source": [
    "### Bidirectional RNN Application"
   ]
  },
  {
   "cell_type": "code",
   "execution_count": 20,
   "metadata": {},
   "outputs": [],
   "source": [
    "# Many to one\n",
    "class Bi_RNN(nn.Module):\n",
    "    def __init__(self, num_classes):\n",
    "        super(Bi_RNN, self).__init__()\n",
    "        self.input_size = 28\n",
    "        self.hidden_size = 128\n",
    "        self.num_layers = 2\n",
    "        self.RNN = nn.RNN(input_size=self.input_size, hidden_size=self.hidden_size, num_layers=self.num_layers, batch_first=True, bidirectional=True) # bidirectional=True만 설정해주면 됨!\n",
    "        # batch_first = True이면 (seq, batch, feature) -> (batch, seq, feature)로 바뀜\n",
    "        self.fc = nn.Linear(self.hidden_size*2, num_classes) # Bidrectional RNN의 경우 linear에서 hidden_size * 2 해주면 됨!\n",
    "    \n",
    "    def forward(self, x):\n",
    "        # out, hidden => hidden은 알아서 전달됨\n",
    "        out, _ = self.RNN(x)  # out: [mini-batch, seq_length, hidden_size]\n",
    "        out = self.fc(out[:, -1, :])\n",
    "        return out\n",
    "\n",
    "model = Bi_RNN(num_classes=10).to(device)"
   ]
  },
  {
   "cell_type": "code",
   "execution_count": 21,
   "metadata": {},
   "outputs": [],
   "source": [
    "# Loss and optimizer\n",
    "CELoss = nn.CrossEntropyLoss()\n",
    "adam_optimizer = torch.optim.Adam(model.parameters(), lr=0.001)"
   ]
  },
  {
   "cell_type": "code",
   "execution_count": 22,
   "metadata": {},
   "outputs": [
    {
     "name": "stdout",
     "output_type": "stream",
     "text": [
      "number of iteration : 469\n",
      "Epoch [1/3], Loss: 0.3543\n",
      "Epoch [2/3], Loss: 0.0975\n",
      "Epoch [3/3], Loss: 0.1836\n"
     ]
    }
   ],
   "source": [
    "# Train the model\n",
    "total_epochs = 3\n",
    "sequence_length = 28\n",
    "input_size = 28\n",
    "\n",
    "print('number of iteration :', len(train_loader))\n",
    "\n",
    "total_step = len(train_loader)\n",
    "for epoch in range(total_epochs):\n",
    "    for i, (images, labels) in enumerate(train_loader):\n",
    "        images = images.reshape(-1, sequence_length, input_size).to(device)\n",
    "        labels = labels.to(device)\n",
    "        \n",
    "        # Forward pass\n",
    "        outputs = model(images)\n",
    "        loss = CELoss(outputs, labels)\n",
    "        \n",
    "        # Backward and optimize\n",
    "        adam_optimizer.zero_grad()\n",
    "        loss.backward()\n",
    "        adam_optimizer.step()\n",
    "        \n",
    "    print ('Epoch [{}/{}], Loss: {:.4f}'.format(epoch+1, total_epochs, loss.item()))"
   ]
  },
  {
   "cell_type": "code",
   "execution_count": 23,
   "metadata": {},
   "outputs": [
    {
     "name": "stdout",
     "output_type": "stream",
     "text": [
      "Test Accuracy of the model on the 10000 test images: 95.55 %\n"
     ]
    }
   ],
   "source": [
    "# 학습이 끝난 후 모델 성능 테스트\n",
    "# test에서는 back propagation 작업을 하지 않으므로 gradient를 계산하지 않도록 함 - 메모리의 효율성을 위해\n",
    "\n",
    "model.eval()\n",
    "with torch.no_grad():\n",
    "    correct = 0\n",
    "    total = 0\n",
    "    for images, labels in test_loader:\n",
    "        images = images.reshape(-1, sequence_length, input_size).to(device)\n",
    "        labels = labels.to(device)\n",
    "        outputs = model(images)\n",
    "        _, predicted = torch.max(outputs.data, 1)\n",
    "        total += labels.size(0)\n",
    "        correct += (predicted == labels).sum().item()\n",
    "\n",
    "    print('Test Accuracy of the model on the 10000 test images: {} %'.format(100 * correct / total)) "
   ]
  }
 ],
 "metadata": {
  "interpreter": {
   "hash": "f2e2bce360819f88e39cac25630043f28fab3036cf9216375971b4d97393a103"
  },
  "kernelspec": {
   "display_name": "Python 3.8.5 64-bit",
   "language": "python",
   "name": "python3"
  },
  "language_info": {
   "codemirror_mode": {
    "name": "ipython",
    "version": 3
   },
   "file_extension": ".py",
   "mimetype": "text/x-python",
   "name": "python",
   "nbconvert_exporter": "python",
   "pygments_lexer": "ipython3",
   "version": "3.8.5"
  }
 },
 "nbformat": 4,
 "nbformat_minor": 4
}
