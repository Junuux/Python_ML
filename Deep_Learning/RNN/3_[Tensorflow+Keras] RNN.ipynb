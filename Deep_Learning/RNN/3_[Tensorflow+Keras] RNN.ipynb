{
 "cells": [
  {
   "cell_type": "code",
   "execution_count": 1,
   "metadata": {},
   "outputs": [],
   "source": [
    "import tensorflow as tf\n",
    "from tensorflow import keras\n",
    "from tensorflow.keras import Model, layers, optimizers, datasets\n",
    "import numpy as np"
   ]
  },
  {
   "cell_type": "code",
   "execution_count": 2,
   "metadata": {},
   "outputs": [],
   "source": [
    "x = tf.random.normal(shape=(32,784,100), mean=0., stddev=1.)"
   ]
  },
  {
   "cell_type": "code",
   "execution_count": 3,
   "metadata": {},
   "outputs": [],
   "source": [
    "rnn = layers.SimpleRNN(units=10) \n",
    "# units : output의 dimension (hidden dim)"
   ]
  },
  {
   "cell_type": "code",
   "execution_count": 4,
   "metadata": {},
   "outputs": [
    {
     "name": "stdout",
     "output_type": "stream",
     "text": [
      "x: (32, 784, 100)\n",
      "----------------------------------------\n",
      "output: (32, 10)\n"
     ]
    }
   ],
   "source": [
    "print('x:',x.shape) # batch_size, timestep, features\n",
    "output = rnn(x)\n",
    "print('-'*40)\n",
    "print('output:',output.shape) # batch_size, output dimension"
   ]
  },
  {
   "cell_type": "code",
   "execution_count": 5,
   "metadata": {},
   "outputs": [],
   "source": [
    "rnn2 = layers.SimpleRNN(units=10, return_sequences=True)\n",
    "# return_sequences : output sequence의 마지막 output을 return할 지(False) full sequence를 return할 지(True)"
   ]
  },
  {
   "cell_type": "code",
   "execution_count": 6,
   "metadata": {},
   "outputs": [
    {
     "name": "stdout",
     "output_type": "stream",
     "text": [
      "x: (32, 784, 100)\n",
      "----------------------------------------\n",
      "output2: (32, 784, 10)\n"
     ]
    }
   ],
   "source": [
    "print('x:',x.shape)\n",
    "output2 = rnn2(x)\n",
    "print('-'*40)\n",
    "print('output2:',output2.shape)"
   ]
  },
  {
   "cell_type": "code",
   "execution_count": 7,
   "metadata": {},
   "outputs": [],
   "source": [
    "rnn3 = layers.SimpleRNN(units=10, return_sequences=True, return_state=True)\n",
    "# return_state : output외에 last state도 return할 지 여부"
   ]
  },
  {
   "cell_type": "code",
   "execution_count": 8,
   "metadata": {},
   "outputs": [
    {
     "name": "stdout",
     "output_type": "stream",
     "text": [
      "x: (32, 784, 100)\n",
      "----------------------------------------\n",
      "output3: (32, 784, 10)\n",
      "final_state: (32, 10)\n"
     ]
    }
   ],
   "source": [
    "print('x:',x.shape)\n",
    "output3, final_state = rnn3(x)\n",
    "print('-'*40)\n",
    "print('output3:',output3.shape)\n",
    "print('final_state:',final_state.shape) # last state"
   ]
  },
  {
   "cell_type": "markdown",
   "metadata": {},
   "source": [
    "### Bi-directional RNN"
   ]
  },
  {
   "cell_type": "code",
   "execution_count": 9,
   "metadata": {},
   "outputs": [],
   "source": [
    "x = tf.random.normal(shape=(32,784,100), mean=0., stddev=1.)"
   ]
  },
  {
   "cell_type": "code",
   "execution_count": 10,
   "metadata": {},
   "outputs": [],
   "source": [
    "rnn = layers.SimpleRNN(units=10) "
   ]
  },
  {
   "cell_type": "code",
   "execution_count": 11,
   "metadata": {},
   "outputs": [],
   "source": [
    "bi_rnn = layers.Bidirectional(rnn)"
   ]
  },
  {
   "cell_type": "code",
   "execution_count": 12,
   "metadata": {},
   "outputs": [
    {
     "name": "stdout",
     "output_type": "stream",
     "text": [
      "x: (32, 784, 100)\n",
      "----------------------------------------\n",
      "output: (32, 20)\n"
     ]
    }
   ],
   "source": [
    "print('x:',x.shape)\n",
    "output = bi_rnn(x)\n",
    "print('-'*40)\n",
    "print('output:',output.shape) # units=10 -> Bi-directional이므로 2배"
   ]
  }
 ],
 "metadata": {
  "interpreter": {
   "hash": "f2e2bce360819f88e39cac25630043f28fab3036cf9216375971b4d97393a103"
  },
  "kernelspec": {
   "display_name": "Python 3.8.5 64-bit",
   "language": "python",
   "name": "python3"
  },
  "language_info": {
   "codemirror_mode": {
    "name": "ipython",
    "version": 3
   },
   "file_extension": ".py",
   "mimetype": "text/x-python",
   "name": "python",
   "nbconvert_exporter": "python",
   "pygments_lexer": "ipython3",
   "version": "3.8.5"
  }
 },
 "nbformat": 4,
 "nbformat_minor": 4
}
