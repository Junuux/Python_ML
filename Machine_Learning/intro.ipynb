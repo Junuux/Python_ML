{
 "cells": [
  {
   "cell_type": "markdown",
   "metadata": {},
   "source": [
    "# 머신러닝"
   ]
  },
  {
   "cell_type": "markdown",
   "metadata": {},
   "source": [
    "## [ 머신러닝이란 ] "
   ]
  },
  {
   "cell_type": "markdown",
   "metadata": {},
   "source": [
    "### 1. 머신러닝 정의"
   ]
  },
  {
   "cell_type": "markdown",
   "metadata": {},
   "source": [
    "* 머신러닝 : 풀고자 하는 문제의 정답과 데이터를 주고 기계를 학습시켜 정답을 맞추게 하는 것"
   ]
  },
  {
   "cell_type": "markdown",
   "metadata": {},
   "source": [
    "### 2. 머신러닝의 3요소"
   ]
  },
  {
   "cell_type": "markdown",
   "metadata": {},
   "source": [
    "* **알고리즘** : 문제를 풀기 위한 의사결정 과정\n",
    "* **데이터** : 객관적 기준을 위한 정답과 요인들\n",
    "* **학습** : 데이터로부터 최적의 값을 찾는 과정"
   ]
  },
  {
   "cell_type": "markdown",
   "metadata": {},
   "source": [
    "### 3. 머신러닝의 종류"
   ]
  },
  {
   "cell_type": "markdown",
   "metadata": {},
   "source": [
    "<img src=\"../Images/Machine_Learning/1.JPG\" width=\"400\" height=\"200\" title=\"\"/>"
   ]
  },
  {
   "cell_type": "markdown",
   "metadata": {},
   "source": [
    "* 지도 학습 : Supervised Learning\n",
    "  * 정답이 있는 문제를 푸는 경우 => 회귀/분류\n",
    "    * 회귀(Regression) : 정답이 연속형 변수일 때 ex) 키 맞추기\n",
    "    * 분류(Classification) : 정답이 비연속형(범주형) 변수일 때 ex) 성별 맞추기\n",
    "* 비지도 학습 : Unsupervised Learning\n",
    "  * 정답이 없는 문제를 푸는 경우 => 군집분석/강화학습\n",
    "  * 군집분석(Clustering) : 주어진 데이터가 어떻게 구성되어있는지 알아내는 분석\n",
    "  * 강화학습(Reinforcement) : 행동에 따른 보상을 최대화하는 방법\n"
   ]
  },
  {
   "cell_type": "markdown",
   "metadata": {},
   "source": [
    "---"
   ]
  },
  {
   "cell_type": "markdown",
   "metadata": {},
   "source": [
    "## [ Model Selection ]"
   ]
  },
  {
   "cell_type": "markdown",
   "metadata": {},
   "source": [
    "### 1. 모델"
   ]
  },
  {
   "cell_type": "markdown",
   "metadata": {},
   "source": [
    "* y=F(x)\n",
    "* 데이터로 값을 예측하고 평가"
   ]
  },
  {
   "cell_type": "markdown",
   "metadata": {},
   "source": [
    "### 2. 데이터"
   ]
  },
  {
   "cell_type": "markdown",
   "metadata": {},
   "source": [
    "* Train Data : 학습에 사용되는 데이터\n",
    "* Test Data : 학습에 사용되지 않는 데이터, 모델이 잘 예측하는지 평가하는데 사용"
   ]
  },
  {
   "cell_type": "markdown",
   "metadata": {},
   "source": [
    "### 3. 데이터와 평가"
   ]
  },
  {
   "cell_type": "markdown",
   "metadata": {},
   "source": [
    "* Overfitting : 과대적합, 학습데이터(train data)는 잘 맞추지만 학습데이터 외에는 잘 맞추지 못하는 현상\n",
    "* Underfitting : 과소적합, 학습데이터를 잘 맞추지 못하는 현상"
   ]
  },
  {
   "cell_type": "markdown",
   "metadata": {},
   "source": [
    "* Overfitting 확인 방법\n",
    "  * Train data를 잘 학습한 모델을 Test data로 평가\n",
    "  * Train data는 잘 맞지만 Test data를 잘 맞추지 못하는 상태\n",
    "\n",
    "* Underfitting 확인 방법\n",
    "  * Train data로 학습된 모델을 Train data로 평가\n",
    "  * Train data를 잘 맞추지 못하는 상태\n"
   ]
  },
  {
   "cell_type": "markdown",
   "metadata": {},
   "source": [
    "* train/valid/test data 분류\n",
    "  * train data : 학습에 사용되는 데이터\n",
    "  * valid data : 학습이 완료된 모델을 검증, 학습에 직접적으로 사용되지는 않지만 관여하는 데이터\n",
    "  * test data : 최종 모델 성능 검증, 학습에 사용/관여하지 않는 데이터"
   ]
  },
  {
   "cell_type": "markdown",
   "metadata": {},
   "source": [
    "* Cross Validation\n",
    "  * valid data를 고정하지 않고 계속 변경하여 valid data의 overfitting을 막기 위한 방법\n",
    "  * LOOCV(Leave One Out Cross Validation), K-Fold 방법\n",
    "  * LOOCV : 하나의 데이터를 제외하고 모델을 학습한 후 평가\n",
    "    * 데이터 개수 만큼의 모델을 학습해야 하므로 시간이 오래 걸림\n",
    "  * K-Fold : 데이터를 k개로 분할한 후 분할 데이터를 제외한 후 학습에 사용하고 제외한 데이터는 학습이 완료된 후 평가에 사용\n",
    "    * LOOCV의 단점 보완\n",
    "    * k개의 평가지표가 생기면 지표의 평균을 이용해 모델 성능을 평가"
   ]
  },
  {
   "cell_type": "markdown",
   "metadata": {},
   "source": [
    "<img src=\"../Images/Machine_Learning/LOOCV.JPG\" width=\"400\" height=\"200\" title=\"\"/>\n",
    "<img src=\"../Images/Machine_Learning/K-Fold.JPG\" width=\"400\" height=\"200\" title=\"\"/>"
   ]
  },
  {
   "cell_type": "markdown",
   "metadata": {},
   "source": []
  }
 ],
 "metadata": {
  "language_info": {
   "name": "python"
  },
  "orig_nbformat": 4
 },
 "nbformat": 4,
 "nbformat_minor": 2
}
