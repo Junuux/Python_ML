{
 "cells": [
  {
   "cell_type": "markdown",
   "metadata": {},
   "source": [
    "<h2>[ 항등원과 역원 ]</h2>"
   ]
  },
  {
   "cell_type": "markdown",
   "metadata": {},
   "source": [
    "<h3>1. Algebraic Properties</h3>\n",
    "\n",
    "<h4>\n",
    "<ul>\n",
    "    <li>Commutative Property : a ▣ b = b ▣ a</li>\n",
    "    <ul>\n",
    "        <li>순서를 바꾸어도 연산 결과가 같음</li>\n",
    "        <li>덧셈 만족 / 뺄셈 만족x</li>\n",
    "    </ul>\n",
    "    <li>Associative Property : (a ▣ b) ▣ c = a ▣ (b ▣ c)</li>\n",
    "    <ul>\n",
    "        <li>덧셈 만족 / 뺄셈 만족x</li>\n",
    "    </ul>\n",
    "    <li>Distributive Property : c ◈ (a ▣ b) = (c ◈ a) ▣ (c ◈ b)</li>\n",
    "</ul>\n",
    "</h4>"
   ]
  },
  {
   "cell_type": "markdown",
   "metadata": {},
   "source": [
    "<h3>2. Identities and Inverse</h3>\n",
    "\n",
    "<h4>\n",
    "<ul>\n",
    "    <li>Identities(항등원) : a ▣ e = a</li>\n",
    "    <ul>\n",
    "        <li>e는 ▣에 대한 identity => 1은 곱셈에 대한 항등원</li>\n",
    "        <li>어떤 값과 연산이 있을 때, 이 값에 연산을 진행한 결과가 원래의 값과 동일하게 만드는 값</li>\n",
    "    </ul>\n",
    "    <li>Inverses(역원) : a ▣ x = e</li>\n",
    "    <ul>\n",
    "        <li>x는 ▣에 대한 inverse => 1/a는 곱셈에 대한 역원</li>\n",
    "        <li>어떤 값과 연산이 있을 때, 이 값에 연산을 진행한 결과 identity가 되게 만드는 값</li>\n",
    "    </ul>\n",
    "</ul>\n",
    "</h4>"
   ]
  },
  {
   "cell_type": "markdown",
   "metadata": {},
   "source": [
    "---"
   ]
  },
  {
   "cell_type": "markdown",
   "metadata": {},
   "source": [
    "<h2>[ 집합 ]</h2>"
   ]
  },
  {
   "cell_type": "markdown",
   "metadata": {},
   "source": [
    "<h3>1. Sets</h3>\n",
    "\n",
    "<h4>\n",
    "<ul>\n",
    "    <li>A collection of distinct and well-defined things(elements)</li>\n",
    "    <li>Roster Form : 원소 나열법 => Set = {element1, element2, ...}</li>\n",
    "    <li>Set Builder : 조건 제시법 => Set = {element | element's condition}</li>\n",
    "    <li>Venn Diagram</li>\n",
    "</ul>\n",
    "</h4>"
   ]
  },
  {
   "cell_type": "markdown",
   "metadata": {},
   "source": [
    "<h3>2. Common Number Sets</h3>\n",
    "\n",
    "<h4> 숫자 종류\n",
    "<ul>\n",
    "    <li>Natural Number : 자연수</li>\n",
    "    <li>Integer : 정수</li>\n",
    "    <li>Rational Numbers : 유리수</li>\n",
    "    <li>Irrational Numbers : 무리수</li>\n",
    "    <li>Real Number : 실수</li>\n",
    "    <li>Complex Numbers : 복소수</li>\n",
    "</ul>\n",
    "</h4>\n",
    "\n",
    "<h4> 원소의 갯수\n",
    "<ul>\n",
    "    <li>Cardinality of Sets : 원소의 갯수</li>\n",
    "    <li>A={2,3} => |A| = 2</li>\n",
    "</ul>\n",
    "</h4>"
   ]
  },
  {
   "cell_type": "markdown",
   "metadata": {},
   "source": [
    "<h3>3. 포함 관계</h3>\n",
    "\n",
    "<h4>\n",
    "<ul>\n",
    "    <li>A ∈ B : A는 B에 속한다</li>\n",
    "    <li>A = B : A가 가진 모든 원소는 B에 포함되고 B가 가진 모든 원소는 A에 포함된다 </li>\n",
    "    <li>A ⊆ B : Subset, A의 모든 원소가 B에 포함될 때, A는 B의 subset</li>\n",
    "    <li>A ⊇ B : Superset, B의 모든 원소가 A에 포함될 때, A는 B의 Superset</li>\n",
    "</ul>\n",
    "</h4>"
   ]
  },
  {
   "cell_type": "markdown",
   "metadata": {},
   "source": [
    "<h3>4. 연산</h3>\n",
    "\n",
    "<h4> Set Operations : 일련의 규칙을 통해 새로운 집합을 만들어내는 과정\n",
    "<ul>\n",
    "    <li>Power Sets : 집합 A의 모든 subset의 집합, p(A)</li>\n",
    "    <ul>\n",
    "        <li>A = {1,2} => p(A) = {{},{1},{2},{1,2}}</li>\n",
    "    </ul>\n",
    "    <li>Complements : A에 포함되지 않은 원소들, A^c</li>\n",
    "    <li>Intersections : A, B에 모두 포함되는 원소들, A∩B, AB</li>\n",
    "    <li>Union : A 또는 B에 포함되는 모든 원소들, A∪B</li>\n",
    "</ul>\n",
    "</h4>\n",
    "\n",
    "<h4>\n",
    "<ul>\n",
    "    <li>Commutative : A∪B = B∪A, A∩B = B∩A</li>\n",
    "    <li>Associative : (A∪B)∪C = (A∪C)∪(B∪C)</li>\n",
    "    <li>Distributive : (A∩B)∪C = (A∪C)∩(B∪C)</li>\n",
    "</ul>\n",
    "</h4>\n",
    "\n",
    "<h4>Set Differences\n",
    "<ul>\n",
    "    <li>A - B : A에는 포함되고 B에는 포함되지 않은 원소들의 집합, A\\B</li>\n",
    "</ul>\n",
    "</h4>\n",
    "\n",
    "<h4>Cartesian Product\n",
    "<ul>\n",
    "    <li>A x A : A, B에서 원소 a, b를 각각 뽑아 (a,b)를 만들 때, 모든 (a,b)의 집합</li>\n",
    "</ul>\n",
    "</h4>"
   ]
  },
  {
   "cell_type": "markdown",
   "metadata": {},
   "source": [
    "<h3>5. 파티션</h3>\n",
    "\n",
    "<h4>\n",
    "<ul>\n",
    "    <li>A ∩ B = {} : partition</li>\n",
    "</ul>\n",
    "</h4>"
   ]
  },
  {
   "cell_type": "markdown",
   "metadata": {},
   "source": [
    "---"
   ]
  },
  {
   "cell_type": "markdown",
   "metadata": {},
   "source": [
    "<h2>[ 함수 ]</h2>"
   ]
  },
  {
   "cell_type": "markdown",
   "metadata": {},
   "source": [
    "<h3>1. 함수</h3>\n",
    "\n",
    "<h4>Functions\n",
    "<ul>\n",
    "    <li>Functions : 두 집합 X, Y에 대해 X에 속한 x가 y에 하나만 대응되는 관계</li>\n",
    "    <li>대응되지 않는 y</li>\n",
    "    <li>f : X -> Y</li>\n",
    "</ul>\n",
    "</h4>\n",
    "\n",
    "<h4> 함수의 종류\n",
    "<ul>\n",
    "    <li>Injective : 같은 y는 한 번씩만 대응, 각자 다른 y에 대응</li>\n",
    "    <li>Surjective : 모든 y는 적어도 하나의 x에 대응</li>\n",
    "    <li>Bijective : one to one, injective + surjective, x와 y의 개수가 동일</li>\n",
    "</ul>\n",
    "<img src=\"../Images/Math/1.JPG\" width=\"600\" height=\"300\" title=\"\"/>\n",
    "</h4>\n",
    "\n",
    "<h4>Composite Functions : 합성 함수\n",
    "<ul>\n",
    "    <li>X -> Y -> Z, f(x)=y, g(y)=z</li>\n",
    "    <li>h = (g ㆍ f)(x) = g(f(x))</li>\n",
    "</ul>\n",
    "</h4>\n",
    "\n",
    "<h4>Inverse Fucntions : 역함수\n",
    "<ul>\n",
    "    <li>f(x1)=y1 => f^-1(y1)=x1</li> \n",
    "    <li>Inverse Function이 존재하려면 반드시 Bijective(Injective하고 Surjective) 해야 함</li>\n",
    "</ul>\n",
    "</h4>\n"
   ]
  },
  {
   "cell_type": "markdown",
   "metadata": {},
   "source": [
    "<h3>2. 대수 함수</h3>\n",
    "\n",
    "<h4>Algebraic Functions : 함수를 사칙연산 해서 만든 새로운 함수\n",
    "<ul>\n",
    "    <li>Linear Functions : y=ax+b</li>\n",
    "    <li>Power Functions : y=x^n</li>\n",
    "    <li>f(x) = c : 상수 함수</li>\n",
    "    <li>Quadratic/Cubic Functions : y=ax^2+bx+c/y=ax^3+bx^2+cx+d</li>\n",
    "    <li>Polynomial Functions : 다항함수</li>\n",
    "    <li>Rational/Irrational Functions : y=1/x  / y=-1/x</li>\n",
    "</ul>\n",
    "</h4>\n",
    "\n",
    "<h4>Arithmetic Operations of Functions : 함수 연산\n",
    "<ul>\n",
    "    <li>Constant Multiple : g(x) = a * f(x)</li>\n",
    "    <li>Addition : h(x) = f(x) + g(x)</li>\n",
    "</ul>\n",
    "</h4>"
   ]
  },
  {
   "cell_type": "markdown",
   "metadata": {},
   "source": [
    "<h3></h3>\n",
    "\n",
    "<h4>\n",
    "<ul>\n",
    "    <li></li>\n",
    "    <li></li>\n",
    "    <li></li>\n",
    "    <li></li>\n",
    "</ul>\n",
    "</h4>"
   ]
  },
  {
   "cell_type": "markdown",
   "metadata": {},
   "source": [
    "<h3></h3>\n",
    "\n",
    "<h4>\n",
    "<ul>\n",
    "    <li></li>\n",
    "    <li></li>\n",
    "    <li></li>\n",
    "    <li></li>\n",
    "</ul>\n",
    "</h4>"
   ]
  },
  {
   "cell_type": "markdown",
   "metadata": {},
   "source": [
    "<h3></h3>\n",
    "\n",
    "<h4>\n",
    "<ul>\n",
    "    <li></li>\n",
    "    <li></li>\n",
    "    <li></li>\n",
    "    <li></li>\n",
    "</ul>\n",
    "</h4>"
   ]
  },
  {
   "cell_type": "markdown",
   "metadata": {},
   "source": [
    "<h3></h3>\n",
    "\n",
    "<h4>\n",
    "<ul>\n",
    "    <li></li>\n",
    "    <li></li>\n",
    "    <li></li>\n",
    "    <li></li>\n",
    "</ul>\n",
    "</h4>"
   ]
  },
  {
   "cell_type": "markdown",
   "metadata": {},
   "source": [
    "<h3></h3>\n",
    "\n",
    "<h4>\n",
    "<ul>\n",
    "    <li></li>\n",
    "    <li></li>\n",
    "    <li></li>\n",
    "    <li></li>\n",
    "</ul>\n",
    "</h4>"
   ]
  },
  {
   "cell_type": "markdown",
   "metadata": {},
   "source": [
    "<h3></h3>\n",
    "\n",
    "<h4>\n",
    "<ul>\n",
    "    <li></li>\n",
    "    <li></li>\n",
    "    <li></li>\n",
    "    <li></li>\n",
    "</ul>\n",
    "</h4>"
   ]
  },
  {
   "cell_type": "code",
   "execution_count": null,
   "metadata": {},
   "outputs": [],
   "source": []
  }
 ],
 "metadata": {
  "interpreter": {
   "hash": "b686d4d7a26051da04b71843ba5dd418a448823625a8705a0a7386a397e85c74"
  },
  "kernelspec": {
   "display_name": "Python 3.8.5 64-bit",
   "language": "python",
   "name": "python3"
  },
  "language_info": {
   "codemirror_mode": {
    "name": "ipython",
    "version": 3
   },
   "file_extension": ".py",
   "mimetype": "text/x-python",
   "name": "python",
   "nbconvert_exporter": "python",
   "pygments_lexer": "ipython3",
   "version": "3.8.5"
  },
  "orig_nbformat": 4
 },
 "nbformat": 4,
 "nbformat_minor": 2
}
