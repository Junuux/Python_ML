{
 "cells": [
  {
   "cell_type": "markdown",
   "metadata": {},
   "source": [
    "<h2>[ 극한 ]</h2>"
   ]
  },
  {
   "cell_type": "markdown",
   "metadata": {},
   "source": [
    "<h3>1. 극한</h3>\n",
    "\n",
    "### $ \\displaystyle\\lim_ {x \\to a} f(x) = L $ \n",
    "##### $\\displaystyle \\lim_{x \\to a^{-}} f(x)$ : 좌극한 / $ \\displaystyle \\lim_{x \\to a^{+}} f(x)$ : 우극한\n",
    "##### 연속의 조건 : f(x) is continuous at x=a, if $\\displaystyle \\lim_{ x \\to a} f(x)=f(a)$\n",
    "\n",
    "<h4>Limits\n",
    "<ul>\n",
    "    <li>f(x) approaches L as x approaches a</li>\n",
    "    <li>left-hand limits : 좌극한 / right-hand limits : 우극한</li>\n",
    "    <li>극한값을 가질 조건 : 좌극한 = 우극한</li>\n",
    "    <li>연속할 조건 : 극한값이 존재, x=a일 때 f(a) = lim_x->a f(x)</li>\n",
    "</ul>\n",
    "</h4>"
   ]
  },
  {
   "cell_type": "markdown",
   "metadata": {},
   "source": [
    "<h3>2. 극한과 점근선</h3>\n",
    "\n",
    "<h4>Asymptotes : 점근선</h4>\n",
    "\n",
    "#### Horizontal Asymptotoes : y=L => $\\displaystyle \\lim_{x \\to \\pm \\infty} f(x) = L$\n",
    "#### Vertical Asymptotoes : x=a => $\\displaystyle \\lim_{x \\to a} f(x) = \\pm \\infty$\n"
   ]
  },
  {
   "cell_type": "markdown",
   "metadata": {},
   "source": [
    "---"
   ]
  },
  {
   "cell_type": "markdown",
   "metadata": {},
   "source": [
    "<h2>[ 미분 ]</h2>"
   ]
  },
  {
   "cell_type": "markdown",
   "metadata": {},
   "source": [
    "<h3>1. 변화율</h3>\n",
    "\n",
    "<h4>Rates of Change\n",
    "<ul>\n",
    "    <li>Average Rates of Change : 평균 변화율</li>\n",
    "    <li>Instantaneous Rates of Change : 순간 변화율</li>\n",
    "    <li>Differential Coefficients : 미분계수, x=a에서 순간 변화율</li>\n",
    "    <li>Derivatives : 도함수, f'(x), x에 원하는 값을 넣으면 그 지점에서 순간 변화율을 알려줌</li>\n",
    "</ul>\n",
    "</h4>\n",
    "<img src=\"../Images/Math/2.JPG\" width=\"400\" height=\"200\" title=\"\"/>\n",
    "<img src=\"../Images/Math/3.JPG\" width=\"400\" height=\"200\" title=\"\"/>\n",
    "<img src=\"../Images/Math/4.JPG\" width=\"400\" height=\"200\" title=\"\"/>"
   ]
  },
  {
   "cell_type": "markdown",
   "metadata": {},
   "source": [
    "<h3>2. Differentiation and Derivatives</h3>\n",
    "\n",
    "<h4>2-1. Derivative Fomula : 미분법</h4>\n",
    "\n",
    "#### $ f(x)=c -> f'(x)=0 $\n",
    "#### $ f(x)= x^{n} -> f'(x) = nx^{n-1} $\n",
    "#### $ f(x)= a^{x} -> f'(x) = a^{x}ln(a) $\n",
    "#### $ f(x)= \\log_{a}{x} -> f'(x)=\\frac{1}{x lna} $\n",
    "#### $ f(x)=sin(x) -> f'(x)=cos(x) $\n",
    "#### $ f(x)=cos(x) -> f'(x)=-sin(x) $\n",
    "#### $ f(x)=tan(x) -> f'(x)=sec^2{x} $\n",
    "\n",
    "<h4>2-2. Differentiation Rules</h4>\n",
    "\n",
    "#### $ \\frac{\\partial }{\\partial x} [cf(x)] = c * \\frac{\\partial }{\\partial x}[f(x)] $\n",
    "#### $ \\frac{\\partial }{\\partial x} [f(x)\\pm g(x)] = \\frac{\\partial }{\\partial x}[f(x)] \\pm \\frac{\\partial }{\\partial x}[g(x)] $\n",
    "#### $ \\frac{\\partial }{\\partial x} [f(x) * g(x)] = f'(x)g(x) + f(x)g'(x) $\n",
    "#### $ \\frac{\\partial }{\\partial x}[\\frac{f(x)}{g(x)}] = \\frac{f'(x)g(x)-f(x)g'(x)}{(g(x))^2} $\n"
   ]
  },
  {
   "cell_type": "markdown",
   "metadata": {},
   "source": [
    "<h3>3. Chain Rule</h3>\n",
    "\n",
    "<h4>Chain Rule : 합성함수의 미분법\n",
    "<ul>\n",
    "    <li>함수를 잘게 쪼개서 마지막에 합치기</li>\n",
    "</ul>\n",
    "</h4>\n",
    "\n",
    "#### $ \\frac{\\partial }{\\partial x} [f(g(x))] = f'(g(x))* g'(x) $\n",
    "\n",
    "#### 예시 : $ \\sigma(x)= \\frac{1}{1+e^{-x}} $\n",
    "##### x -> u1=-x -> u2= e^u1 -> u3=1+u -> y=1/u3 -> y\n",
    "##### $ \\sigma'(x) = \\frac{\\partial y}{\\partial x} = \\frac{e^{u_{1}}}{(u_{3})^{2}} =\\sigma(x)(1-\\sigma(x))  $\n",
    " "
   ]
  },
  {
   "cell_type": "markdown",
   "metadata": {},
   "source": [
    "<h3>4. Gradient-based Optimization</h3>\n",
    "\n",
    "<h4>Case : Quadratic Functions(2차 함수)\n",
    "<ul>\n",
    "    <li>argmin f(x) = x* => argmin f(x)를 찾아라</li>\n",
    "    <li>y=0.1x^2</li>\n",
    "    <li>x := x -a * dy/dx</li>\n",
    "    <li>Gradient-based Optimization: 조금씩 이동하면서 최적해 찾기 => Iterative(반복)</li>\n",
    "</ul>\n",
    "</h4>\n",
    "\n",
    "<h4>Case : Multivariate Functions(함수 1개, 변수 n개)</h4>\n",
    "\n",
    "#### $ f(x1, x2) = x_1^{3}+x_2^{2} => \\frac{\\partial f}{\\partial x_1} = 3(x_1)^{2}, \\frac{\\partial f}{\\partial x_2} = 2x_2 $\n",
    "#### $ f(x1, x2) = x_1x_2 => \\frac{\\partial f}{\\partial x_1} = x_2, \\frac{\\partial f}{\\partial x_2} = x_1 $\n",
    "<h4>\n",
    "<ul>\n",
    "    <li>f(x;θ,b) => 최적의 θ,b 찾기</li>\n",
    "    <li>여러 단계로 걸쳐 모델이 이루어지므로 각 단계에서 최적화해서 최종 최적해를 찾아야 함</li>\n",
    "    <li>f(x1, x2) =y에서 x1과 x2 각각을 변수로 생각하고 남은 변수는 상수라 생각하고 미분 => 편미분</li>\n",
    "</ul>\n",
    "</h4>\n",
    "\n",
    "<h4>Gradients : 각 변수에 따라 편미분한 값을 모아둔 것</h4>\n",
    "\n",
    "#### $ f(x1, x2) = y => \\bigtriangledown _{x1, x2} f=(\\frac{\\partial f}{\\partial x_1}, \\frac{\\partial f}{\\partial x_2}) $\n",
    "#### $ f(X) = y => \\bigtriangledown _{X} f(X)=(\\frac{\\partial f}{\\partial X}) $\n",
    "#### $ X := X-a \\bigtriangledown _{X} f(X) $ => 최적이 되는 값으로 계속 이동\n"
   ]
  },
  {
   "cell_type": "markdown",
   "metadata": {},
   "source": [
    "---"
   ]
  },
  {
   "cell_type": "markdown",
   "metadata": {},
   "source": [
    "<h2>[ 인공 뉴런 ]</h2>"
   ]
  },
  {
   "cell_type": "markdown",
   "metadata": {},
   "source": [
    "<h3>1. 인공뉴런 최적화</h3>\n",
    "\n",
    "<h4>Optimizations of Artificial Neurons\n",
    "<ul>\n",
    "    <li>X -> z=f(X,θ) -> a=g(z) => a</li>\n",
    "    <li>θ 파라미터를 조정하는 것이 중요 => θ training</li>\n",
    "</ul>\n",
    "</h4>\n",
    "<img src=\"../Images/Math/5.JPG\" width=\"400\" height=\"200\" title=\"\"/>\n",
    "<img src=\"../Images/Math/6.JPG\" width=\"400\" height=\"200\" title=\"\"/>"
   ]
  },
  {
   "cell_type": "markdown",
   "metadata": {},
   "source": [
    "<h3>2. 벡터와 편미분</h3>\n",
    "\n",
    "<h4>\n",
    "<ul>\n",
    "    <li>벡터 함수 f(x) = (f1(x), f2(x), ..)</li>\n",
    "    <li>df/dx = (df1/dx, df2/dx, ..)</li>\n",
    "</ul>\n",
    "</h4>"
   ]
  },
  {
   "cell_type": "markdown",
   "metadata": {},
   "source": [
    "<h3>3. 야코비안과 체인룰</h3>\n",
    "\n",
    "<h4>General Jacobians\n",
    "<ul>\n",
    "    <li>f(X)=y : Vector Function => 입력갑, 함수, 결과 모두 벡터</li>\n",
    "    <li>벡터 함수 f 내의 f_i에 대해 X로 미분 -> 각 함수에 X에 속하는 원소 x로 미분</li>\n",
    "    <li>입력 벡터와 벡터 함수의 형태</li>\n",
    "    <img src=\"../Images/Math/7.JPG\" width=\"400\" height=\"200\" title=\"\"/>\n",
    "    <img src=\"../Images/Math/8.JPG\" width=\"400\" height=\"200\" title=\"\"/>\n",
    "    <img src=\"../Images/Math/9.JPG\" width=\"400\" height=\"200\" title=\"\"/>\n",
    "    <li>입력을 받아 함수 f, g 이후 출력인 h => Matrix의 곱셈을 통해 나타냄</li>\n",
    "    <img src=\"../Images/Math/10.JPG\" width=\"400\" height=\"200\" title=\"\"/>\n",
    "</ul>\n",
    "</h4>"
   ]
  },
  {
   "cell_type": "markdown",
   "metadata": {},
   "source": [
    "<h3></h3>\n",
    "\n",
    "<h4>\n",
    "<ul>\n",
    "    <li></li>\n",
    "    <li></li>\n",
    "    <li></li>\n",
    "    <li></li>\n",
    "</ul>\n",
    "</h4>"
   ]
  },
  {
   "cell_type": "markdown",
   "metadata": {},
   "source": [
    "<h3></h3>\n",
    "\n",
    "<h4>\n",
    "<ul>\n",
    "    <li></li>\n",
    "    <li></li>\n",
    "    <li></li>\n",
    "    <li></li>\n",
    "</ul>\n",
    "</h4>"
   ]
  }
 ],
 "metadata": {
  "interpreter": {
   "hash": "b686d4d7a26051da04b71843ba5dd418a448823625a8705a0a7386a397e85c74"
  },
  "kernelspec": {
   "display_name": "Python 3.8.5 64-bit",
   "language": "python",
   "name": "python3"
  },
  "language_info": {
   "name": "python",
   "version": "3.8.5"
  },
  "orig_nbformat": 4
 },
 "nbformat": 4,
 "nbformat_minor": 2
}
