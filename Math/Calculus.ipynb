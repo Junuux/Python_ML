{
 "cells": [
  {
   "cell_type": "markdown",
   "metadata": {},
   "source": [
    "<h2>[ 극한 ]</h2>"
   ]
  },
  {
   "cell_type": "markdown",
   "metadata": {},
   "source": [
    "<h3>1. 극한</h3>\n",
    "\n",
    "### $ \\displaystyle\\lim_ {x \\to a} f(x) = L $ \n",
    "##### $\\displaystyle \\lim_{x \\to a^{-}} f(x)$ : 좌극한 / $ \\displaystyle \\lim_{x \\to a^{+}} f(x)$ : 우극한\n",
    "##### 연속의 조건 : f(x) is continuous at x=a, if $\\displaystyle \\lim_{ x \\to a} f(x)=f(a)$\n",
    "\n",
    "<h4>Limits\n",
    "<ul>\n",
    "    <li>f(x) approaches L as x approaches a</li>\n",
    "    <li>left-hand limits : 좌극한 / right-hand limits : 우극한</li>\n",
    "    <li>극한값을 가질 조건 : 좌극한 = 우극한</li>\n",
    "    <li>연속할 조건 : 극한값이 존재, x=a일 때 f(a) = lim_x->a f(x)</li>\n",
    "</ul>\n",
    "</h4>"
   ]
  },
  {
   "cell_type": "markdown",
   "metadata": {},
   "source": [
    "<h3>2. 극한과 점근선</h3>\n",
    "\n",
    "<h4>Asymptotes : 점근선</h4>\n",
    "\n",
    "#### Horizontal Asymptotoes : y=L => $\\displaystyle \\lim_{x \\to \\pm \\infty} f(x) = L$\n",
    "#### Vertical Asymptotoes : x=a => $\\displaystyle \\lim_{x \\to a} f(x) = \\pm \\infty$\n"
   ]
  },
  {
   "cell_type": "markdown",
   "metadata": {},
   "source": [
    "---"
   ]
  },
  {
   "cell_type": "markdown",
   "metadata": {},
   "source": [
    "<h2>[ 미분 ]</h2>"
   ]
  },
  {
   "cell_type": "markdown",
   "metadata": {},
   "source": [
    "<h3></h3>\n",
    "\n",
    "<h4>\n",
    "<ul>\n",
    "    <li></li>\n",
    "    <li></li>\n",
    "    <li></li>\n",
    "    <li></li>\n",
    "</ul>\n",
    "</h4>"
   ]
  },
  {
   "cell_type": "markdown",
   "metadata": {},
   "source": [
    "<h2>[ 항등원과 역원 ]</h2>"
   ]
  },
  {
   "cell_type": "markdown",
   "metadata": {},
   "source": [
    "<h3></h3>\n",
    "\n",
    "<h4>\n",
    "<ul>\n",
    "    <li></li>\n",
    "    <li></li>\n",
    "    <li></li>\n",
    "    <li></li>\n",
    "</ul>\n",
    "</h4>"
   ]
  },
  {
   "cell_type": "markdown",
   "metadata": {},
   "source": [
    "<h3></h3>\n",
    "\n",
    "<h4>\n",
    "<ul>\n",
    "    <li></li>\n",
    "    <li></li>\n",
    "    <li></li>\n",
    "    <li></li>\n",
    "</ul>\n",
    "</h4>"
   ]
  },
  {
   "cell_type": "markdown",
   "metadata": {},
   "source": [
    "<h3></h3>\n",
    "\n",
    "<h4>\n",
    "<ul>\n",
    "    <li></li>\n",
    "    <li></li>\n",
    "    <li></li>\n",
    "    <li></li>\n",
    "</ul>\n",
    "</h4>"
   ]
  },
  {
   "cell_type": "markdown",
   "metadata": {},
   "source": [
    "<h3></h3>\n",
    "\n",
    "<h4>\n",
    "<ul>\n",
    "    <li></li>\n",
    "    <li></li>\n",
    "    <li></li>\n",
    "    <li></li>\n",
    "</ul>\n",
    "</h4>"
   ]
  },
  {
   "cell_type": "markdown",
   "metadata": {},
   "source": [
    "<h3></h3>\n",
    "\n",
    "<h4>\n",
    "<ul>\n",
    "    <li></li>\n",
    "    <li></li>\n",
    "    <li></li>\n",
    "    <li></li>\n",
    "</ul>\n",
    "</h4>"
   ]
  },
  {
   "cell_type": "markdown",
   "metadata": {},
   "source": [
    "<h3></h3>\n",
    "\n",
    "<h4>\n",
    "<ul>\n",
    "    <li></li>\n",
    "    <li></li>\n",
    "    <li></li>\n",
    "    <li></li>\n",
    "</ul>\n",
    "</h4>"
   ]
  }
 ],
 "metadata": {
  "interpreter": {
   "hash": "b686d4d7a26051da04b71843ba5dd418a448823625a8705a0a7386a397e85c74"
  },
  "kernelspec": {
   "display_name": "Python 3.8.5 64-bit",
   "language": "python",
   "name": "python3"
  },
  "language_info": {
   "name": "python",
   "version": "3.8.5"
  },
  "orig_nbformat": 4
 },
 "nbformat": 4,
 "nbformat_minor": 2
}
