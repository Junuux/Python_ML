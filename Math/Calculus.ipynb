{
 "cells": [
  {
   "cell_type": "markdown",
   "metadata": {},
   "source": [
    "<h2>[ 극한 ]</h2>"
   ]
  },
  {
   "cell_type": "markdown",
   "metadata": {},
   "source": [
    "<h3>1. 극한</h3>\n",
    "\n",
    "### $ \\displaystyle\\lim_ {x \\to a} f(x) = L $ \n",
    "##### $\\displaystyle \\lim_{x \\to a^{-}} f(x)$ : 좌극한 / $ \\displaystyle \\lim_{x \\to a^{+}} f(x)$ : 우극한\n",
    "##### 연속의 조건 : f(x) is continuous at x=a, if $\\displaystyle \\lim_{ x \\to a} f(x)=f(a)$\n",
    "\n",
    "<h4>Limits\n",
    "<ul>\n",
    "    <li>f(x) approaches L as x approaches a</li>\n",
    "    <li>left-hand limits : 좌극한 / right-hand limits : 우극한</li>\n",
    "    <li>극한값을 가질 조건 : 좌극한 = 우극한</li>\n",
    "    <li>연속할 조건 : 극한값이 존재, x=a일 때 f(a) = lim_x->a f(x)</li>\n",
    "</ul>\n",
    "</h4>"
   ]
  },
  {
   "cell_type": "markdown",
   "metadata": {},
   "source": [
    "<h3>2. 극한과 점근선</h3>\n",
    "\n",
    "<h4>Asymptotes : 점근선</h4>\n",
    "\n",
    "#### Horizontal Asymptotoes : y=L => $\\displaystyle \\lim_{x \\to \\pm \\infty} f(x) = L$\n",
    "#### Vertical Asymptotoes : x=a => $\\displaystyle \\lim_{x \\to a} f(x) = \\pm \\infty$\n"
   ]
  },
  {
   "cell_type": "markdown",
   "metadata": {},
   "source": [
    "---"
   ]
  },
  {
   "cell_type": "markdown",
   "metadata": {},
   "source": [
    "<h2>[ 미분 ]</h2>"
   ]
  },
  {
   "cell_type": "markdown",
   "metadata": {},
   "source": [
    "<h3>1. 변화율</h3>\n",
    "\n",
    "<h4>Rates of Change\n",
    "<ul>\n",
    "    <li>Average Rates of Change : 평균 변화율</li>\n",
    "    <li>Instantaneous Rates of Change : 순간 변화율</li>\n",
    "    <li>Differential Coefficients : 미분계수, x=a에서 순간 변화율</li>\n",
    "    <li>Derivatives : 도함수, f'(x), x에 원하는 값을 넣으면 그 지점에서 순간 변화율을 알려줌</li>\n",
    "</ul>\n",
    "</h4>\n",
    "<img src=\"../Images/Math/2.JPG\" width=\"400\" height=\"200\" title=\"\"/>\n",
    "<img src=\"../Images/Math/3.JPG\" width=\"400\" height=\"200\" title=\"\"/>\n",
    "<img src=\"../Images/Math/4.JPG\" width=\"400\" height=\"200\" title=\"\"/>"
   ]
  },
  {
   "cell_type": "markdown",
   "metadata": {},
   "source": [
    "<h3>2. Differentiation and Derivatives</h3>\n",
    "\n",
    "<h4>2-1. Derivative Fomula : 미분법</h4>\n",
    "\n",
    "#### $ f(x)=c -> f'(x)=0 $\n",
    "#### $ f(x)= x^{n} -> f'(x) = nx^{n-1} $\n",
    "#### $ f(x)= a^{x} -> f'(x) = a^{x}ln(a) $\n",
    "#### $ f(x)= \\log_{a}{x} -> f'(x)=\\frac{1}{x lna} $\n",
    "#### $ f(x)=sin(x) -> f'(x)=cos(x) $\n",
    "#### $ f(x)=cos(x) -> f'(x)=-sin(x) $\n",
    "#### $ f(x)=tan(x) -> f'(x)=sec^2{x} $\n",
    "\n",
    "<h4>2-2. Differentiation Rules</h4>\n",
    "\n",
    "#### $ \\frac{\\partial }{\\partial x} [cf(x)] = c * \\frac{\\partial }{\\partial x}[f(x)] $\n",
    "#### $ \\frac{\\partial }{\\partial x} [f(x)\\pm g(x)] = \\frac{\\partial }{\\partial x}[f(x)] \\pm \\frac{\\partial }{\\partial x}[g(x)] $\n",
    "#### $ \\frac{\\partial }{\\partial x} [f(x) * g(x)] = f'(x)g(x) + f(x)g'(x) $\n",
    "#### $ \\frac{\\partial }{\\partial x}[\\frac{f(x)}{g(x)}] = \\frac{f'(x)g(x)-f(x)g'(x)}{(g(x))^2} $\n"
   ]
  },
  {
   "cell_type": "markdown",
   "metadata": {},
   "source": [
    "<h3></h3>\n",
    "\n",
    "<h4>\n",
    "<ul>\n",
    "    <li></li>\n",
    "    <li></li>\n",
    "    <li></li>\n",
    "    <li></li>\n",
    "</ul>\n",
    "</h4>"
   ]
  },
  {
   "cell_type": "markdown",
   "metadata": {},
   "source": [
    "<h2>[ 항등원과 역원 ]</h2>"
   ]
  },
  {
   "cell_type": "markdown",
   "metadata": {},
   "source": [
    "<h3></h3>\n",
    "\n",
    "<h4>\n",
    "<ul>\n",
    "    <li></li>\n",
    "    <li></li>\n",
    "    <li></li>\n",
    "    <li></li>\n",
    "</ul>\n",
    "</h4>"
   ]
  },
  {
   "cell_type": "markdown",
   "metadata": {},
   "source": [
    "<h3></h3>\n",
    "\n",
    "<h4>\n",
    "<ul>\n",
    "    <li></li>\n",
    "    <li></li>\n",
    "    <li></li>\n",
    "    <li></li>\n",
    "</ul>\n",
    "</h4>"
   ]
  },
  {
   "cell_type": "markdown",
   "metadata": {},
   "source": [
    "<h3></h3>\n",
    "\n",
    "<h4>\n",
    "<ul>\n",
    "    <li></li>\n",
    "    <li></li>\n",
    "    <li></li>\n",
    "    <li></li>\n",
    "</ul>\n",
    "</h4>"
   ]
  },
  {
   "cell_type": "markdown",
   "metadata": {},
   "source": [
    "<h3></h3>\n",
    "\n",
    "<h4>\n",
    "<ul>\n",
    "    <li></li>\n",
    "    <li></li>\n",
    "    <li></li>\n",
    "    <li></li>\n",
    "</ul>\n",
    "</h4>"
   ]
  },
  {
   "cell_type": "markdown",
   "metadata": {},
   "source": [
    "<h3></h3>\n",
    "\n",
    "<h4>\n",
    "<ul>\n",
    "    <li></li>\n",
    "    <li></li>\n",
    "    <li></li>\n",
    "    <li></li>\n",
    "</ul>\n",
    "</h4>"
   ]
  },
  {
   "cell_type": "markdown",
   "metadata": {},
   "source": [
    "<h3></h3>\n",
    "\n",
    "<h4>\n",
    "<ul>\n",
    "    <li></li>\n",
    "    <li></li>\n",
    "    <li></li>\n",
    "    <li></li>\n",
    "</ul>\n",
    "</h4>"
   ]
  }
 ],
 "metadata": {
  "interpreter": {
   "hash": "b686d4d7a26051da04b71843ba5dd418a448823625a8705a0a7386a397e85c74"
  },
  "kernelspec": {
   "display_name": "Python 3.8.5 64-bit",
   "language": "python",
   "name": "python3"
  },
  "language_info": {
   "name": "python",
   "version": "3.8.5"
  },
  "orig_nbformat": 4
 },
 "nbformat": 4,
 "nbformat_minor": 2
}
