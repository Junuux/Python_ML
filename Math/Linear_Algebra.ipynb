{
 "cells": [
  {
   "cell_type": "markdown",
   "metadata": {},
   "source": [
    "<h2>[ 벡터 ]</h2>"
   ]
  },
  {
   "cell_type": "markdown",
   "metadata": {},
   "source": [
    "<h3>1. 벡터의 개념</h3>\n",
    "\n",
    "<h4>벡터\n",
    "\n",
    "##### $ \\left| \\left| u \\right|\\right| = \\sqrt{\\sum_{i=1}^{n}(u_i)^2} $\n",
    "##### $ \\hat{u} = \\frac {u}{\\left| \\left| u \\right|\\right|} $\n",
    "\n",
    "<ul>\n",
    "    <li>벡터 : 원소의 순서가 중요, 좌표 평면이나 공간에 나타낼 수 있음</li>\n",
    "    <li>Column vectors / Row vectors</li>\n",
    "    <li>Transposes of Vectors : U -> U^T (column <-> row)</li>\n",
    "    <li>Vector norm : 벡터의 크기 => 피타고라스 이용</li>\n",
    "    <li>Scalar Multiplications of vector : 벡터에 상수 곱은 각 원소에 같은 값을 곱하는 것과 같음</li>\n",
    "    <li>Vector Unitizations : u^, 벡터를 단위 벡터로(크기가 1)</li>\n",
    "</ul>\n",
    "</h4>"
   ]
  },
  {
   "cell_type": "markdown",
   "metadata": {},
   "source": [
    "<h3>2. 벡터의 연산</h3>\n",
    "\n",
    "<h4>\n",
    "\n",
    "#### $ \\vec{u} \\cdot \\vec{v} = \\sum_{i=1}^{n}u_i \\cdot v_i = \\left| \\left| \\vec{u} \\right|\\right| \\cdot \\left| \\left| \\vec{v} \\right|\\right| \\cdot cos(\\theta) $\n",
    "<ul>\n",
    "    <li>Vector Additions : 벡터의 합, 각 원소 위치별로 합하기</li>\n",
    "    <li>Linear Combinations of Vectors : 상수 a, b와 벡터 u,v => au+bv는 Linear Combination</li>\n",
    "    <li>Dot Products : u.v = u1v1+u2v2+... </li>\n",
    "</ul>\n",
    "</h4>"
   ]
  },
  {
   "cell_type": "markdown",
   "metadata": {},
   "source": [
    "---"
   ]
  },
  {
   "cell_type": "markdown",
   "metadata": {},
   "source": [
    "<h2>[ 행렬 ]</h2>"
   ]
  },
  {
   "cell_type": "markdown",
   "metadata": {},
   "source": [
    "<h3>1. 행렬</h3>\n",
    "\n",
    "<h4>\n",
    "<ul>\n",
    "    <li>Row : 행, Column : 열</li>\n",
    "    <li>행 m개, 열 n개 => m x n 행렬</li>\n",
    "    <li>a1,1 a1,2 a1,3</li>\n",
    "    <li>a2,1 a2,2 a2,3</li>\n",
    "    <li>행렬 표현</li>\n",
    "    <img src=\"../Images/Math/11.JPG\" width=\"400\" height=\"200\" title=\"\"/>\n",
    "    <li>Transpose of Matrics</li>\n",
    "    <img src=\"../Images/Math/12.JPG\" width=\"400\" height=\"200\" title=\"\"/>\n",
    "</ul>\n",
    "</h4>\n",
    "\n",
    "<h4>행렬의 연산\n",
    "<ul>\n",
    "    <li>Addition : Matrix Shape이 동일해야 함</li>\n",
    "    <li>Linear Combination : aM+bN</li>\n",
    "</ul>\n",
    "</h4>"
   ]
  },
  {
   "cell_type": "markdown",
   "metadata": {},
   "source": [
    "<h3>2. 행렬의 곱셈</h3>\n",
    "\n",
    "<h4>Mulitplication of Matrix vector\n",
    "<ul>\n",
    "    <li>행렬의 곱셈 : (m x n) x (n x 1)</li>\n",
    "    <img src=\"../Images/Math/13.JPG\" width=\"400\" height=\"200\" title=\"\"/>\n",
    "    <img src=\"../Images/Math/14.JPG\" width=\"400\" height=\"200\" title=\"\"/>\n",
    "</ul>\n",
    "</h4>"
   ]
  },
  {
   "cell_type": "markdown",
   "metadata": {},
   "source": [
    "<h3>3. 역행렬</h3>\n",
    "\n",
    "<h4>Identities Matrix : 항등원, I / Inverse Matrix : 역행렬\n",
    "\n",
    "#### $ A = \\begin{pmatrix} a &b \\\\ c &d \\\\ \\end{pmatrix} $ -> $  A^{-1} = \\frac{1}{ad-bc} \\begin{pmatrix} d &-b \\\\ -c &a \\\\ \\end{pmatrix}$ \n",
    "<ul>\n",
    "    <li>항등원 : AX=A -> X=I</li>\n",
    "    <li>I는 무조건 square Matrix(n x n)</li>\n",
    "    <li>역행렬 : AX=I -> X=A^(-1)</li>\n",
    "    <li>역행렬이 존재하려면 m=n (A:mxn, I:nxn)이여야 함</li>\n",
    "    <li>det(A)=|A|=ad-bc =0이면 역행렬이 존재하지 않음</li>\n",
    "</ul>\n",
    "</h4>"
   ]
  },
  {
   "cell_type": "markdown",
   "metadata": {},
   "source": [
    "<h3>4. 행렬과 선형방정식</h3>\n",
    "\n",
    "<h4>Systems of Linear Equations\n",
    "<ul>\n",
    "    <li>Column Spaces of Matrices</li>\n",
    "    <img src=\"../Images/Math/15.JPG\" width=\"400\" height=\"200\" title=\"\"/>\n",
    "    <li>Triangular Matrices => 방정식을 푸는 것처럼 변수 앞의 상수를 같게 해서 제거하는 것과 비슷</li>\n",
    "    <img src=\"../Images/Math/16.JPG\" width=\"400\" height=\"200\" title=\"\"/>\n",
    "    <li>가우스 조던 제거 => 삼각 행렬로 변환하여 쉽게 계산</li>\n",
    "</ul>\n",
    "</h4>"
   ]
  },
  {
   "cell_type": "markdown",
   "metadata": {},
   "source": [
    "<h3>5. 선형 변환</h3>\n",
    "\n",
    "<h4>Reflection Matrices\n",
    "\n",
    "##### x축 대칭 : $ \\begin{pmatrix} 1 &0 \\\\ 0 &-1  \\\\ \\end{pmatrix} $\n",
    "##### y축 대칭 : $ \\begin{pmatrix} -1 &0 \\\\ 0 &1  \\\\ \\end{pmatrix} $\n",
    "##### 원점 대칭 : $ \\begin{pmatrix} -1 &0 \\\\ 0 &-1  \\\\ \\end{pmatrix} $\n",
    "<ul>\n",
    "    <li>Reflection Matrices : x축 대칭, y축 대칭, 원점 대칭</li>\n",
    "    <li>Inverse Matrices : 모두 자기 자신</li>\n",
    "</ul>\n",
    "</h4>\n",
    "\n",
    "<h4>Scaling Matrices\n",
    "\n",
    "##### x축 a배 : $ \\begin{pmatrix} a &0 \\\\ 0 &1  \\\\ \\end{pmatrix} $\n",
    "##### y축 b배 : $ \\begin{pmatrix} 1 &0 \\\\ 0 &b  \\\\ \\end{pmatrix} $\n",
    "##### x축 a배/y축 b배 : $ \\begin{pmatrix} a&0 \\\\ 0 &b  \\\\ \\end{pmatrix} $\n",
    "<ul>\n",
    "    <li>Scaling Matrices : 크기를 변환(옆으로 늘리고 줄이기)</li>\n",
    "</ul>\n",
    "</h4>\n",
    "\n",
    "<h4>Rotation Matrices\n",
    "\n",
    "#### A = $ \\begin{pmatrix} cos(θ)&-sin(θ) \\\\ sin(θ) &cos(θ)  \\\\ \\end{pmatrix} $\n",
    "<ul>\n",
    "    <li>θ만큼 시계 반대 방향으로 회전</li>\n",
    "    <li>(x,y) -> xcos(θ)-ysin(θ), xsin(θ)+ycos(θ)</li>\n",
    "</ul>\n",
    "</h4>"
   ]
  },
  {
   "cell_type": "markdown",
   "metadata": {},
   "source": [
    "<h3>6. 정사영</h3>\n",
    "\n",
    "<h4>\n",
    "\n",
    "##### A : $ \\begin{pmatrix} 0 &0 \\\\ 0 &1  \\\\ \\end{pmatrix} $ => (x,y)->(0,y)\n",
    "<ul>\n",
    "    <li>x, y축에 정사영됨</li>\n",
    "    <li>3차원인 경우 xy, yz, zx 평면, x, y, z 축에 정사영 할 수 있음</li>\n",
    "    <li></li>\n",
    "</ul>\n",
    "</h4>\n",
    "\n",
    "<h4>직선 위에 정사영\n",
    "\n",
    "#### Scalar projection : 크기 = $\\left\\| u \\right\\| cos(θ) : comp_vu = \\frac {u^T v}{\\left\\| v \\right\\|} = \\frac {\\left\\| u \\right\\| \\left\\| v \\right\\| cos(θ)} {\\left\\| v \\right\\| }$\n",
    "#### Vector projection : 크기+방향 = $ proj_vu = comp_vu \\cdot \\frac {v}{\\left\\| v \\right\\|} $\n",
    "<ul>\n",
    "    <li>벡터 u, v에 대해 벡터 u를 v에 정사영 => v위에 u projection</li>\n",
    "    <li>크기 : |u|cos(θ), 방향 : v</li>\n",
    "</ul>\n",
    "</h4>\n",
    "\n",
    "<h4>Projections Matrices 벡터를 행렬로 \n",
    "\n",
    "#### $ proj_vu = comp_vu \\cdot \\frac {v}{\\left\\| v \\right\\|} = \\frac{u^T \\cdot v} {(\\left\\| v \\right\\|)^2} \\cdot v$\n",
    "#### $ \\frac{u^T \\cdot v} {(\\left\\| v \\right\\|)^2} \\cdot v = \\frac{v^T \\cdot u} {(\\left\\| v \\right\\|)^2} \\cdot v = \\frac{v \\cdot v^T} {(\\left\\| v \\right\\|)^2} \\cdot u$\n",
    "<ul>\n",
    "    <li>proj을 v와 u를 따로 행렬과 벡터로 분할이 가능함</li>\n",
    "    <img src=\"../Images/Math/17.JPG\" width=\"400\" height=\"200\" title=\"\"/>\n",
    "</ul>\n",
    "</h4>"
   ]
  },
  {
   "cell_type": "markdown",
   "metadata": {},
   "source": [
    "<h3></h3>\n",
    "\n",
    "<h4>\n",
    "<ul>\n",
    "    <li></li>\n",
    "    <li></li>\n",
    "    <li></li>\n",
    "</ul>\n",
    "</h4>"
   ]
  },
  {
   "cell_type": "markdown",
   "metadata": {},
   "source": [
    "<h3></h3>\n",
    "\n",
    "<h4>\n",
    "<ul>\n",
    "    <li></li>\n",
    "    <li></li>\n",
    "    <li></li>\n",
    "</ul>\n",
    "</h4>"
   ]
  },
  {
   "cell_type": "markdown",
   "metadata": {},
   "source": [
    "<h2>[ 인공 뉴런 ]</h2>"
   ]
  },
  {
   "cell_type": "markdown",
   "metadata": {},
   "source": [
    "<h3></h3>\n",
    "\n",
    "<h4>\n",
    "<ul>\n",
    "    <li></li>\n",
    "    <li></li>\n",
    "    <li></li>\n",
    "</ul>\n",
    "</h4>"
   ]
  },
  {
   "cell_type": "markdown",
   "metadata": {},
   "source": [
    "<h3></h3>\n",
    "\n",
    "<h4>\n",
    "<ul>\n",
    "    <li></li>\n",
    "    <li></li>\n",
    "    <li></li>\n",
    "</ul>\n",
    "</h4>"
   ]
  },
  {
   "cell_type": "markdown",
   "metadata": {},
   "source": [
    "<h3></h3>\n",
    "\n",
    "<h4>\n",
    "<ul>\n",
    "    <li></li>\n",
    "    <li></li>\n",
    "    <li></li>\n",
    "</ul>\n",
    "</h4>"
   ]
  },
  {
   "cell_type": "markdown",
   "metadata": {},
   "source": [
    "<h2>[ 인공 뉴런 ]</h2>"
   ]
  },
  {
   "cell_type": "markdown",
   "metadata": {},
   "source": [
    "<h3></h3>\n",
    "\n",
    "<h4>\n",
    "<ul>\n",
    "    <li></li>\n",
    "    <li></li>\n",
    "    <li></li>\n",
    "</ul>\n",
    "</h4>"
   ]
  },
  {
   "cell_type": "markdown",
   "metadata": {},
   "source": [
    "<h3></h3>\n",
    "\n",
    "<h4>\n",
    "<ul>\n",
    "    <li></li>\n",
    "    <li></li>\n",
    "    <li></li>\n",
    "</ul>\n",
    "</h4>"
   ]
  },
  {
   "cell_type": "markdown",
   "metadata": {},
   "source": [
    "<h3></h3>\n",
    "\n",
    "<h4>\n",
    "<ul>\n",
    "    <li></li>\n",
    "    <li></li>\n",
    "    <li></li>\n",
    "</ul>\n",
    "</h4>"
   ]
  },
  {
   "cell_type": "markdown",
   "metadata": {},
   "source": [
    "<h3></h3>\n",
    "\n",
    "<h4>\n",
    "<ul>\n",
    "    <li></li>\n",
    "    <li></li>\n",
    "    <li></li>\n",
    "</ul>\n",
    "</h4>"
   ]
  }
 ],
 "metadata": {
  "language_info": {
   "name": "python"
  },
  "orig_nbformat": 4
 },
 "nbformat": 4,
 "nbformat_minor": 2
}
