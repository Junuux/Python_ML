{
 "cells": [
  {
   "cell_type": "markdown",
   "metadata": {},
   "source": [
    "<h2>[ 확률 ]</h2>"
   ]
  },
  {
   "cell_type": "markdown",
   "metadata": {},
   "source": [
    "<h3>1. 개념</h3>\n",
    "\n",
    "<h4>기본 개념\n",
    "<ul>\n",
    "    <li>Random Experiments : 주사위 던지기, 동전 앞/뒤</li>\n",
    "    <li>Sample Space : 나올 수 있는 결과, {a,b}, 90이상 100이하</li>\n",
    "    <li>Outcome : 결과, sample space의 원소, a, b, 95, 97</li>\n",
    "    <li>Event : sample space의 subset, 특정 조건에 해당하는 결과 집합</li>\n",
    "    <li>Probabilities : 각 원소의 확률</li>\n",
    "</ul>\n",
    "</h4>"
   ]
  },
  {
   "cell_type": "markdown",
   "metadata": {},
   "source": [
    "<h3>2. 조건부 확률</h3>\n",
    "\n",
    "<h4>Conditional Probabilities\n",
    "<ul>\n",
    "    <li>Equally Likely Outcomes : 동일한 빈도로 나타나는 경우</li>\n",
    "    <li>Conditional Probabilities : 조건부 확률 => P(A|B) = P(A∩B)/P(B)</li>\n",
    "    <li>Independent Events : 독립적인 경우 => P(A∩B) = P(A)*P(B), P(A|B)=P(A)</li>\n",
    "    <li>ex) 동전을 A가 던지고 B가 던질 때 A가 던진 사건이 B가 던지는 사건에 영향을 주지 않음</li>\n",
    "</ul>\n",
    "</h4>"
   ]
  },
  {
   "cell_type": "markdown",
   "metadata": {},
   "source": [
    "<h3>3. 베이즈 정리</h3>\n",
    "\n",
    "<h4>Bayes' Theorem\n",
    "\n",
    "#### $ P(C_t|D) = \\frac{p(D|C_t)*P(C_t)}{P(D)} = \\frac{P(D|C_t)*P(C_t)}{\\sum_{i=1}^{N} P(C_i)P(D|C_i)} $\n",
    "<ul>\n",
    "    <li>P(A|B) = {P(B|A)*P(A)}/P(B)</li>\n",
    "    <li>ex) 암으로 진단 받았을 때 암이 실제 걸렸을 확률</li>\n",
    "    <li>P(A|B) = P(A∩B)/P(B) = {P(B|A)*P(A)}/P(B)</li>\n",
    "    <li>특정 데이터 D를 받았을 때, 클래스 C 중에서 강아지 C_t일 확률 = P(C_t/D)</li>\n",
    "    <li>P(C_t/D) = {P(D|C_t)*P(C_t)}/P(D)</li>\n",
    "    <img src=\"../Images/Math/18.JPG\" width=\"400\" height=\"200\" title=\"\"/>\n",
    "</ul>\n",
    "</h4>"
   ]
  },
  {
   "cell_type": "markdown",
   "metadata": {},
   "source": [
    "---"
   ]
  },
  {
   "cell_type": "markdown",
   "metadata": {},
   "source": [
    "<h2>[ 확률 변수 ]</h2>"
   ]
  },
  {
   "cell_type": "markdown",
   "metadata": {},
   "source": [
    "<h3>1. 변수</h3>\n",
    "\n",
    "<h4>\n",
    "<ul>\n",
    "    <li>Random Variables : S를 받아 함수를 통해 변수를 변환하는 것(문자를 숫자로 변환)</li>\n",
    "</ul>\n",
    "</h4>"
   ]
  },
  {
   "cell_type": "markdown",
   "metadata": {},
   "source": [
    "<h3>2. 확률변수의 기대값</h3>\n",
    "\n",
    "<h4>Expected Values\n",
    "\n",
    "#### 기대값 : $ \\mu = E(X) = \\sum_{x_i}^{}x_i*P(X=x_i) $\n",
    "#### 함수 통과 : $ E(g(X)) = \\sum_{x_i}^{}g(X=x_i)*P(X=x_i) $\n",
    "#### 산포도 : $ \\sigma ^2 = Var(X) = E((X-\\mu)^2) = E(X^2) - [E(X)]^2 $\n",
    "<ul>\n",
    "    <li>기댓값 : E(X)</li>\n",
    "    <li>산포도 : Var(X)</li>\n",
    "    <li>표준편차 : 루트(Var)</li>\n",
    "</ul>\n",
    "</h4>"
   ]
  },
  {
   "cell_type": "markdown",
   "metadata": {},
   "source": [
    "<h3>3. 이산/연속 확률 분포</h3>\n",
    "\n",
    "<h4>\n",
    "\n",
    "#### Mass Function(Discrete) : $ P(X=x_i) = f(X=x_i) $\n",
    "#### Density Function(Continuous) : $ P(a\\leq x\\leq b) = \\int_{a}^{b}f(x)dx $\n",
    "<ul>\n",
    "    <li>Binomial Distributions => Discrete</li>\n",
    "    <img src=\"../Images/Math/19.JPG\" width=\"400\" height=\"200\" title=\"\"/>\n",
    "    <li>Normal Distributions => Continuous</li>\n",
    "    <img src=\"../Images/Math/20.JPG\" width=\"400\" height=\"200\" title=\"\"/>\n",
    "    <img src=\"../Images/Math/21.JPG\" width=\"400\" height=\"200\" title=\"\"/>\n",
    "</ul>\n",
    "</h4>"
   ]
  },
  {
   "cell_type": "markdown",
   "metadata": {},
   "source": [
    "---"
   ]
  },
  {
   "cell_type": "markdown",
   "metadata": {},
   "source": [
    "<h2>[ 시그모이드와 소프트맥스 ]</h2>"
   ]
  },
  {
   "cell_type": "markdown",
   "metadata": {},
   "source": [
    "<h3>시그모이드 / 소프트맥스</h3>\n",
    "\n",
    "<h4>\n",
    "\n",
    "#### $ logit(A)= log(\\frac {P(A)}{1-P(A)}) $\n",
    "#### $ sigmoid : \\sigma (x) = \\frac{1}{1+e^{-x}} $\n",
    "#### $ softmax : S_t(p) = \\frac {e^{l_t}}{\\sum_{i=1}^{C} e^{l_i}} $\n",
    "<ul> \n",
    "    <li>logit : 사건이 일어날 확률과 일어나질 확률을 비교, 0.5일 때 0이고 P(A)>P(A^c)일 때 0보다 큰 값을 가짐</li>\n",
    "    <li>logit(A) : 확률을 받아서 logit으로 변환</li>\n",
    "    <li>sigmoid : logit을 받아서 확률로 변환, logit의 역함수</li>\n",
    "    <li>Softmax : 여러 logit을 받아 softmax를 거치면 여러 출력 클래스 P를 냄</li>\n",
    "</ul>\n",
    "</h4>"
   ]
  },
  {
   "cell_type": "markdown",
   "metadata": {},
   "source": [
    "---"
   ]
  },
  {
   "cell_type": "markdown",
   "metadata": {},
   "source": [
    "<h2>[ 엔트로피 ]</h2>"
   ]
  },
  {
   "cell_type": "markdown",
   "metadata": {},
   "source": [
    "<h3>1. 샤논</h3>\n",
    "\n",
    "<h4>\n",
    "\n",
    "#### $ I(P(A))=-log(P(A)) $\n",
    "<ul>\n",
    "    <li>Shannon Information : 확률이 낮은 경우 Information이 크다</li>\n",
    "    <li>확률이 1에 가까워질수록 정보가 없어짐</li>\n",
    "</ul>\n",
    "</h4>"
   ]
  },
  {
   "cell_type": "markdown",
   "metadata": {},
   "source": [
    "<h3>2. 샤논 엔트로피</h3>\n",
    "\n",
    "<h4>\n",
    "\n",
    "#### $ H(X) = E(I(X)) = \\sum_{x_i} I(X=x_i)P(X=x_i)= -\\sum_{x_i}log(P(x_i))P(x_i)$\n",
    "<ul>\n",
    "    <li>X의 각 x_i에 확률 P를 이용하여 계산</li>\n",
    "</ul>\n",
    "</h4>"
   ]
  },
  {
   "cell_type": "markdown",
   "metadata": {},
   "source": [
    "<h3>3. 크로스 엔트로피</h3>\n",
    "\n",
    "<h4>\n",
    "\n",
    "#### $  $\n",
    "<ul>\n",
    "    <li>Binary Entropy => p가 0.5에 가까우면 불확실성이 증가함</li>\n",
    "    <img src=\"../Images/Math/22.JPG\" width=\"400\" height=\"200\" title=\"\"/>\n",
    "    <li>Binary Cross Entropy : 확률분포 사이의 유사도</li>\n",
    "    <li>P(p=0.5) vs Q(p=0.5)/R(p=0.3)</li>\n",
    "    <img src=\"../Images/Math/23.JPG\" width=\"400\" height=\"200\" title=\"\"/>\n",
    "    <li>Cross Entropy : 정답 레이블이 a이면 a에 가까울수록 loss가 작아짐</li>\n",
    "    <img src=\"../Images/Math/24.JPG\" width=\"400\" height=\"200\" title=\"\"/>\n",
    "</ul>\n",
    "</h4>"
   ]
  },
  {
   "cell_type": "markdown",
   "metadata": {},
   "source": [
    "<h3></h3>\n",
    "\n",
    "<h4>\n",
    "<ul>\n",
    "    <li></li>\n",
    "    <li></li>\n",
    "    <li></li>\n",
    "</ul>\n",
    "</h4>"
   ]
  },
  {
   "cell_type": "markdown",
   "metadata": {},
   "source": []
  }
 ],
 "metadata": {
  "language_info": {
   "name": "python"
  },
  "orig_nbformat": 4
 },
 "nbformat": 4,
 "nbformat_minor": 2
}
