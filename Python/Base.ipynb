{
 "cells": [
  {
   "cell_type": "markdown",
   "metadata": {},
   "source": [
    "# a\n",
    "## ab\n",
    "[링크 설명] (https://fastcampus.app/courses/206185/clips/368218?organizationProductId=11008)\n",
    "\n",
    "![이미지 설명](https://s.pstatic.net/static/www/mobile/edit/2020/0319/mobile_19411917574.png)\n",
    "\n",
    "$ 수식작성$\n",
    "\n",
    "* \\* 목록\n",
    "\n",
    "**강조**\n",
    "---\n",
    "---"
   ]
  }
 ],
 "metadata": {
  "language_info": {
   "name": "python"
  },
  "orig_nbformat": 4
 },
 "nbformat": 4,
 "nbformat_minor": 2
}
